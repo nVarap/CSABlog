{
 "cells": [
  {
   "cell_type": "markdown",
   "metadata": {},
   "source": [
    "---\n",
    "title: Object Oriented Nature - Java\n",
    "description: Quick launch into Variables, Functions, Arrays, Classes, Objects.\n",
    "layout: post\n",
    "courses: { csa: {week: 7} }\n",
    "type: hacks\n",
    "---"
   ]
  },
  {
   "cell_type": "markdown",
   "metadata": {},
   "source": [
    "Java is used around the world to create applications and is one of the most popular coding languages. The reason Java is so popular is because of it's security and versatility provided by it's Object Oriented nature.\n",
    "\n",
    "# 1.1 Basics\n",
    "\n",
    "```\n",
    "public class Main {\n",
    "  int x = 5;\n",
    "\n",
    "  public static void main(String[] args) {\n",
    "    Main myObj = new Main();\n",
    "    System.out.println(myObj.x);\n",
    "  }\n",
    "}\n",
    "```\n",
    "\n",
    "# 1.2 Variables and Data Types\n",
    "\n",
    "## Variables\n",
    "\n",
    "A Variable is a name given to a memory location that is holding the specified value. Here are some naming practices:\n",
    "\n",
    "- Use camel case. likeThis.\n",
    "- Don't start with a number.\n",
    "- Spaces are not allowed.\n",
    "- No reserved characters, like $, @, and &\n",
    "\n",
    "***Java is a strongly typed language so you always need to declare the type of the variable.*** Variables can also be declared on their own or in the same line as when they are given a value:\n"
   ]
  },
  {
   "cell_type": "code",
   "execution_count": 45,
   "metadata": {},
   "outputs": [
    {
     "ename": "CompilationException",
     "evalue": "",
     "output_type": "error",
     "traceback": [
      "\u001b[1m\u001b[30m|   \u001b[1m\u001b[30m\u001b[0m\u001b[1m\u001b[30m\u001b[41mprimitive4\u001b[0m\u001b[1m\u001b[30m = 1;\u001b[0m",
      "\u001b[1m\u001b[31mcannot find symbol\u001b[0m",
      "\u001b[1m\u001b[31m  symbol:   variable primitive4\u001b[0m",
      ""
     ]
    }
   ],
   "source": [
    "int primitive5;\n",
    "primitive4 = 1; // this doesn't work\n",
    "\n",
    "//Or...\n",
    "int primitive6 = 1;"
   ]
  },
  {
   "cell_type": "markdown",
   "metadata": {},
   "source": [
    "What are the greatest values integers and doubles can store?\n",
    "- Integers can store a 32 bit number, and thus the largest possible number is 2147483647\n",
    "- Doubles are hence double, thus a 64 bit number, thus 1.79769313486231570e+308d (A bit over 14 places)"
   ]
  },
  {
   "cell_type": "code",
   "execution_count": null,
   "metadata": {},
   "outputs": [
    {
     "name": "stdout",
     "output_type": "stream",
     "text": [
      "2147483647\n"
     ]
    },
    {
     "data": {
      "text/plain": [
       "-2147483648"
      ]
     },
     "execution_count": 10,
     "metadata": {},
     "output_type": "execute_result"
    }
   ],
   "source": [
    "int i = Integer.MAX_VALUE;\n",
    "System.out.println(i);\n",
    "i += 1; // Flips to negative. This overflows, resulting in it wrapping around\n"
   ]
  },
  {
   "cell_type": "markdown",
   "metadata": {},
   "source": [
    "## Primitive Data\n",
    "\n",
    "Primitive data determines ***the size and type of information***. Primitive types are the most simple type of variable. They are simply store a short amount of raw data, and are not associated with another class.\n",
    "\n",
    "Here are the different primitive types:\n",
    "- byte: An 8-bit signed two's complement integer.\n",
    "- short: A 16-bit signed two's complement integer.\n",
    "- int: A 32-bit signed two's complement integer.\n",
    "- long: A 64-bit signed two's complement integer.\n",
    "- float: A single-precision 32-bit IEEE 754 floating point.\n",
    "- double: A double-precision 64-bit IEEE 754 floating point.\n",
    "- boolean: Stores either true or false.\n",
    "- char: Stores a single character.\n",
    "\n",
    "For this class you need to know:"
   ]
  },
  {
   "cell_type": "code",
   "execution_count": null,
   "metadata": {},
   "outputs": [],
   "source": [
    "boolean primitive3 = true; //Stores a true of false binary value\n",
    "int primitive1 = 0; //Whole number\n",
    "double primitive2 = 1.1; //Decimal values. Floating point numbers.\n",
    "char primitive4 = 'a'; //Single character"
   ]
  },
  {
   "cell_type": "markdown",
   "metadata": {},
   "source": [
    "| Data Type | Size (bits) |\n",
    "|-----------|-------------|\n",
    "| boolean   | 8           |\n",
    "| int       | 32          |\n",
    "| double    | 64          |\n",
    "| char      | 16          |"
   ]
  },
  {
   "cell_type": "code",
   "execution_count": null,
   "metadata": {},
   "outputs": [
    {
     "name": "stdout",
     "output_type": "stream",
     "text": [
      "2147483647\n",
      "-2147483648\n",
      "1.7976931348623157E308\n",
      "4.9E-324\n"
     ]
    }
   ],
   "source": [
    "public class GreatestValue {\n",
    "    public static void main(String[] args) {\n",
    "        System.out.println(Integer.MAX_VALUE);\n",
    "        System.out.println(Integer.MIN_VALUE);\n",
    "        System.out.println(Double.MAX_VALUE);\n",
    "        System.out.println(Double.MIN_VALUE);\n",
    "    }\n",
    "}\n",
    "GreatestValue.main(null);"
   ]
  },
  {
   "cell_type": "markdown",
   "metadata": {},
   "source": [
    "## Reference Types\n",
    "Some data types, like String, start with a capital letter. This is because they are not primiative, but are refrence types. They are called this because they refrence an object.\n",
    "> \"A reference type is a code object that is not stored directly where it is created, but that acts as a kind of pointer to a value stored elsewhere.\""
   ]
  },
  {
   "cell_type": "code",
   "execution_count": null,
   "metadata": {},
   "outputs": [],
   "source": [
    "int integer = 7120; //\"int\" starts with a lowercase\n",
    "String string = \"abc\"; //\"String\" starts with an uppercase, because it is an object and not a primitive type"
   ]
  },
  {
   "cell_type": "markdown",
   "metadata": {},
   "source": [
    "## All Reference Types Reference Objects: String Example\n",
    "\n",
    "String is the most common reference type. Here is an example of how a String type is really just referencing an object."
   ]
  },
  {
   "cell_type": "code",
   "execution_count": null,
   "metadata": {},
   "outputs": [],
   "source": [
    "public class WorseString {\n",
    "    private char[] charArray;\n",
    "\n",
    "    public WorseString(String inputString) {\n",
    "        this.charArray = inputString.toCharArray();\n",
    "    }\n",
    "\n",
    "    public String getChars() {\n",
    "        return new String(this.charArray);\n",
    "    }\n",
    "\n",
    "    @Override\n",
    "    public String toString() {\n",
    "        return getChars();\n",
    "    }\n",
    "}"
   ]
  },
  {
   "cell_type": "code",
   "execution_count": null,
   "metadata": {},
   "outputs": [
    {
     "name": "stdout",
     "output_type": "stream",
     "text": [
      "Hello, World!\n"
     ]
    }
   ],
   "source": [
    "WorseString string = new WorseString(\"Hello, World!\");\n",
    "System.out.println(string);"
   ]
  },
  {
   "cell_type": "markdown",
   "metadata": {},
   "source": [
    "Therefore, these two things are the same:"
   ]
  },
  {
   "cell_type": "code",
   "execution_count": null,
   "metadata": {},
   "outputs": [],
   "source": [
    "String string = \"abc\";\n",
    "String string = new String(\"abc\");"
   ]
  },
  {
   "cell_type": "markdown",
   "metadata": {},
   "source": [
    "## Literal vs String literal\n",
    "\n",
    "- Literal: Source code representation of a fixed value --- 3\n",
    "- String Literal: In double quotes, a String --- \"3\""
   ]
  },
  {
   "cell_type": "markdown",
   "metadata": {},
   "source": [
    "# 1.3 Expressions and Assignment Statements\n",
    "\n",
    "Calculations and evaluating arithmetic statements is important when coding to create algorithms and other code. Make sure you are doing arithmetic statements with int or double values and not String literals\n",
    "\n",
    "## Operators\n",
    "\n",
    "| Operator | Example Equation | Output | Use |\n",
    "|----------|------------------|--------|------------|\n",
    "| +        | 5 + 3            | 8      | Add numbers together. |\n",
    "| -        | 5 - 3            | 2      | Subtract one number from another. |\n",
    "| *        | 5 * 3            | 15     | Multiply numbers together. |\n",
    "| /        | 5 / 3            | 1      | Divide one number by another. |\n",
    "| / (float)| 5 / 3.0           | 1.67   | Division by a integer and a float | \n",
    "| %        | 5 % 3            | 2      | Find the remainder of a division operation. |\n",
    "\n",
    "\n",
    "> Tip: In the AP subset, you only have to worry about operations with int values. However, it's good to know how to use arithmetic statements with doubles and other types. \n",
    "\n",
    "If you do an operation with two ints or doubles, it returns the respective type. If you mix types, Java returns the one with more bits, a double in this case.\n",
    "\n",
    "## Modulus\n",
    "\n",
    "Modulus gets the remainder if you were to divide two numbers. One common use is to find odd/even numbers. \n",
    "\n",
    "- 5 % 2 = 1\n",
    "- 100 % 10 = 0\n",
    "\n",
    "You try: \n",
    "\n",
    "- 8 % 3 = 2\n",
    "- 4 % 1 = 0\n",
    "\n",
    "Modulus joins multiplication and division in the order of operations\n",
    "\n",
    "## Assignment Operator\n",
    "\n",
    "= is called the assignment operator because it is used to assign a value to a variable. It is the last in the order of operations."
   ]
  },
  {
   "cell_type": "markdown",
   "metadata": {},
   "source": [
    "## Casting\n",
    "Casting is converting one type of variable to another\n",
    "ex: double to int"
   ]
  },
  {
   "cell_type": "code",
   "execution_count": null,
   "metadata": {},
   "outputs": [
    {
     "name": "stdout",
     "output_type": "stream",
     "text": [
      "3\n",
      "3\n",
      "4\n",
      "1\n",
      "1.5\n"
     ]
    }
   ],
   "source": [
    "public class Casting {\n",
    "    public static void main(String[] args) {\n",
    "        double castTest = 3.2;\n",
    "        System.out.println((int) castTest);\n",
    "        castTest = 3.7;\n",
    "        System.out.println((int) castTest);\n",
    "        System.out.println((int) (castTest+0.5));\n",
    "\n",
    "        int castTest2 = 3;\n",
    "        System.out.println(castTest2/2);\n",
    "        System.out.println(castTest2/2.0);\n",
    "    }\n",
    "}\n",
    "Casting.main(null);"
   ]
  },
  {
   "cell_type": "markdown",
   "metadata": {},
   "source": [
    "What will this output?\n",
    "\n"
   ]
  },
  {
   "cell_type": "code",
   "execution_count": null,
   "metadata": {},
   "outputs": [
    {
     "name": "stdout",
     "output_type": "stream",
     "text": [
      "2.3746666666666667\n",
      "7\n"
     ]
    }
   ],
   "source": [
    "double castTest2 = 7.124; \n",
    "System.out.println(castTest2/3); // 2.376 (float with int)\n",
    "System.out.println((int) (castTest2+0.5)); // rounding (rounds to 7)"
   ]
  },
  {
   "cell_type": "markdown",
   "metadata": {},
   "source": [
    "## Wrapper Classes"
   ]
  },
  {
   "cell_type": "markdown",
   "metadata": {},
   "source": [
    "For many operations in Java, you need to have a class. Some examples are:\n",
    "- **ArrayLists or HashMaps**\n",
    "- If you require nullability (meaning the value could be null)\n",
    "- Generics\n",
    "- Methods that require objects as input\n",
    "\n",
    "To accomplish this, we use a wrapper class. A wrapper class is essentially a class which 'wraps' the primitive type and makes it into an object rather than a primitive.\n",
    "\n",
    "What is a downside of using wrapper classes? Why not always use them?\n",
    "\n",
    "<spoiler>Increased memory usage</spoiler> "
   ]
  },
  {
   "cell_type": "code",
   "execution_count": null,
   "metadata": {},
   "outputs": [],
   "source": [
    "//This code fails\n",
    "ArrayList ArrayList = new ArrayList<>();"
   ]
  },
  {
   "cell_type": "code",
   "execution_count": null,
   "metadata": {},
   "outputs": [],
   "source": [
    "//This code works\n",
    "ArrayList ArrayList = new ArrayList<Integer>();"
   ]
  },
  {
   "cell_type": "markdown",
   "metadata": {},
   "source": [
    "- **Autoboxing** is converting wrapper to primitive\n",
    "- **Unboxing** is converting primitive to wrapper"
   ]
  },
  {
   "cell_type": "code",
   "execution_count": null,
   "metadata": {},
   "outputs": [
    {
     "name": "stdout",
     "output_type": "stream",
     "text": [
      "17\n",
      "17\n",
      "3.9\n"
     ]
    }
   ],
   "source": [
    "public class Wrappers {\n",
    "    Integer ageWrapper = 17;\n",
    "    int age = Integer.parseInt(\"17\");\n",
    "    String gpaString = \"3.9\";\n",
    "    double gpaDouble = Double.parseDouble(gpaString);\n",
    "\n",
    "    public static void main(String[] args) {\n",
    "        Wrappers wrapper = new Wrappers();\n",
    "        System.out.println(wrapper.ageWrapper);\n",
    "        System.out.println(wrapper.age);\n",
    "        System.out.println(wrapper.gpaDouble);\n",
    "    }\n",
    "}\n",
    "Wrappers.main(null);"
   ]
  },
  {
   "cell_type": "markdown",
   "metadata": {},
   "source": [
    "How do you complete this output so that it outputs an integer\n",
    "String grade = \"95\";\n",
    "?\n",
    "\n",
    "How do you complete this output so that it outputs a double?\n",
    "String grade = \"95.5\";\n",
    "?"
   ]
  },
  {
   "cell_type": "markdown",
   "metadata": {},
   "source": [
    "## Enums\n",
    "What are they?\n",
    "<spoiler>Enums are a type of data, which allows a variable to be a predetermined set of values</spoiler>\n",
    "\n",
    "Uses\n",
    "* Examples: days of the week\n",
    "\n",
    "Things you can do with Enums\n",
    "* ordinal\n",
    "* switch\n",
    "* for loops"
   ]
  },
  {
   "cell_type": "code",
   "execution_count": 46,
   "metadata": {},
   "outputs": [
    {
     "name": "stdout",
     "output_type": "stream",
     "text": [
      "What is the third unit in AP CSA? Answer: BOOLEAN\n",
      "What is the unit is Classes in AP CSA? Answer: 2\n",
      "The selected unit is: array list\n",
      "PRIMITVE_DATA_TYPES\n",
      "CLASSES\n",
      "BOOLEAN\n",
      "ITERATION\n",
      "WRITING_CLASSES\n",
      "ARRAY\n",
      "ARRAY_LIST\n",
      "TWO_DIMENSIONAL_ARRAY\n",
      "INHERITANCE\n",
      "RECURSION\n"
     ]
    }
   ],
   "source": [
    "public class EnumTest { \n",
    "    enum Units { // holds all cases\n",
    "    PRIMITVE_DATA_TYPES,\n",
    "    CLASSES,\n",
    "    BOOLEAN,\n",
    "    ITERATION,\n",
    "    WRITING_CLASSES,\n",
    "    ARRAY,\n",
    "    ARRAY_LIST,\n",
    "    TWO_DIMENSIONAL_ARRAY,\n",
    "    INHERITANCE,\n",
    "    RECURSION;\n",
    "}\n",
    "public static void main(String[] args) { \n",
    "  System.out.println(\"What is the third unit in AP CSA? Answer: \" + Units.BOOLEAN);\n",
    "  Units classUnit = Units.CLASSES; // Gets the classes as unit objects\n",
    "  System.out.println(\"What is the unit is Classes in AP CSA? Answer: \" + (classUnit.ordinal() + 1));\n",
    "  Units selectedUnit = Units.ARRAY_LIST;  // you can get them as a certain case\n",
    "\n",
    "  switch(selectedUnit) { // creates a switch based off of the Arraylist\n",
    "    case PRIMITVE_DATA_TYPES: // each individual case\n",
    "      System.out.println(\"The selected unit is: primitive data types\");\n",
    "      break;\n",
    "    case BOOLEAN:\n",
    "       System.out.println(\"The selected unit is: boolean\");\n",
    "      break;\n",
    "    case CLASSES:\n",
    "      System.out.println(\"The selected unit is: classes\");\n",
    "      break;\n",
    "    case ITERATION:\n",
    "      System.out.println(\"The selected unit is: iteration\");\n",
    "      break;\n",
    "    case WRITING_CLASSES:\n",
    "      System.out.println(\"The selected unit is: writing classes\");\n",
    "      break;\n",
    "    case ARRAY:\n",
    "      System.out.println(\"The selected unit is: array\");\n",
    "      break;\n",
    "    case ARRAY_LIST:\n",
    "      System.out.println(\"The selected unit is: array list\");\n",
    "      break;\n",
    "    case TWO_DIMENSIONAL_ARRAY:\n",
    "      System.out.println(\"The selected unit is: 2d array\");\n",
    "      break;\n",
    "    case INHERITANCE:\n",
    "      System.out.println(\"The selected unit is: inheritance\");\n",
    "      break;\n",
    "    case RECURSION:\n",
    "      System.out.println(\"The selected unit is: recursion\");\n",
    "      break;\n",
    "  }\n",
    "  for (Units allUnits: Units.values()) {\n",
    "    System.out.println(allUnits);\n",
    "  }\n",
    "} \n",
    "}\n",
    "EnumTest.main(null);"
   ]
  },
  {
   "cell_type": "code",
   "execution_count": 47,
   "metadata": {},
   "outputs": [
    {
     "name": "stdout",
     "output_type": "stream",
     "text": [
      "What is the third day of the week? Answer: TUESDAY\n",
      "What day of the week is Wednesday? 3\n",
      "Wow. Its tuesday. Yipee\n",
      "SUNDAY\n",
      "MONDAY\n",
      "TUESDAY\n",
      "WEDNESDAY\n",
      "THURSDAY\n",
      "FRIDAY\n",
      "SATURDAY\n"
     ]
    }
   ],
   "source": [
    "public class EnumDays {\n",
    "    enum Days {\n",
    "    SUNDAY,\n",
    "    MONDAY,\n",
    "    TUESDAY,\n",
    "    WEDNESDAY,\n",
    "    THURSDAY,\n",
    "    FRIDAY,\n",
    "    SATURDAY\n",
    "}\n",
    "public static void main(String[] args) {\n",
    "  System.out.println(\"What is the third day of the week? Answer: \" + Days.TUESDAY);\n",
    "  Days day = Days.TUESDAY;\n",
    "  System.out.println(\"What day of the week is Wednesday? \" + (day.ordinal() + 1));\n",
    "  Days selectedDay = Days.TUESDAY;\n",
    "  switch(selectedDay) {\n",
    "    case SUNDAY:\n",
    "      System.out.println(\"It's Sunday. Get ready for MONDAY!\");\n",
    "      break;\n",
    "    case MONDAY:\n",
    "       System.out.println(\"Monday. Ew\");\n",
    "      break;\n",
    "    case TUESDAY:\n",
    "      System.out.println(\"Wow. Its tuesday. Yipee\");\n",
    "      break;\n",
    "    case WEDNESDAY:\n",
    "      System.out.println(\"It is wednesday my dudes 🐸\"); \n",
    "      break;\n",
    "    case THURSDAY:\n",
    "      System.out.println(\"So you've got a test tomorrow. It is Thursday\");\n",
    "      break;\n",
    "    case FRIDAY:\n",
    "      System.out.println(\"FINALLY FRIDAY\");\n",
    "      break;\n",
    "    case SATURDAY:\n",
    "      System.out.println(\"Time to lie around and do nothing, it is Saturday.\");\n",
    "      break;\n",
    "  }\n",
    "  for (Days allDays: Days.values()) {\n",
    "    System.out.println(allDays);\n",
    "  }\n",
    "}\n",
    "}\n",
    "EnumDays.main(null);\n"
   ]
  },
  {
   "cell_type": "code",
   "execution_count": 8,
   "metadata": {},
   "outputs": [
    {
     "ename": "UnresolvedReferenceException",
     "evalue": "Attempt to use definition snippet with unresolved references in Snippet:ClassKey(Calculator)#17-\npublic class Calculator {\n    public double add(double a, double b){\n        return a+b;\n    }\n    public double sub(double a, double b){\n        return b-a;\n    }\n    public double mult(double a, double b){\n        return a*b;\n    }\n    public double div(double a, double b){\n        return b/a;\n    }\n    public double mod(double a, double b){\n        return b%a;\n    }\n\n    public boolean canIntify(double d){\n        double dec = Math.abs(d - (int) d);\n        if(dec != 0){\n            return false;\n        }\n        else {\n            return true;\n        }\n\n    }\n\n    public int intify(double i){return (int) i;}\n    \n    public static void main(String[] args){\n        Calculator c = new Calculator();\n        \n        Scanner sc = new Scanner(System.in);\n        System.out.println(\"What operator?\");\n        String op = sc.nextLine();\n        System.out.println(op);\n        System.out.println(\"enter number 1\");\n        double d1 = sc.nextDouble();\n        System.out.println(d1);\n        System.out.println(\"enter number 2\");\n        System.out.println(d2);\n        double d2 = sc.nextDouble();\n\n        \n        double answer = 0.0;\n        switch (op) {\n            case \"add\":\n                if(c.canIntify(c.add(d1, d2))){\n                    System.out.println(c.intify(c.add(d1, d2)));\n                }\n                else {\n                    System.out.println(c.add(d1,d2));\n                }\n                break;\n            case \"subtract\":\n                if(c.canIntify(c.sub(d1, d2))){\n                    System.out.println(c.intify(c.sub(d1, d2)));\n                }\n                else {\n                    System.out.println(c.sub(d1,d2));\n                }\n                    break;\n            case \"multiply\":\n                if(c.canIntify(c.mult(d1, d2))){\n                    System.out.println(c.intify(c.mult(d1, d2)));\n                }\n                else {\n                    System.out.println(c.mult(d1,d2));\n                }\n                    break;\n        }\n}\n}",
     "output_type": "error",
     "traceback": [
      "\u001b[1m\u001b[30m|   \u001b[1m\u001b[30m\u001b[0m",
      "\u001b[1m\u001b[30m|   \u001b[1m\u001b[30mpublic class Calculator {\u001b[0m",
      "\u001b[1m\u001b[30m|   \u001b[1m\u001b[30m    public double add(double a, double b){\u001b[0m",
      "\u001b[1m\u001b[30m|   \u001b[1m\u001b[30m        return a+b;\u001b[0m",
      "\u001b[1m\u001b[30m|   \u001b[1m\u001b[30m    }\u001b[0m",
      "\u001b[1m\u001b[30m|   \u001b[1m\u001b[30m    public double sub(double a, double b){\u001b[0m",
      "\u001b[1m\u001b[30m|   \u001b[1m\u001b[30m        return b-a;\u001b[0m",
      "\u001b[1m\u001b[30m|   \u001b[1m\u001b[30m    }\u001b[0m",
      "\u001b[1m\u001b[30m|   \u001b[1m\u001b[30m    public double mult(double a, double b){\u001b[0m",
      "\u001b[1m\u001b[30m|   \u001b[1m\u001b[30m        return a*b;\u001b[0m",
      "\u001b[1m\u001b[30m|   \u001b[1m\u001b[30m    }\u001b[0m",
      "\u001b[1m\u001b[30m|   \u001b[1m\u001b[30m    public double div(double a, double b){\u001b[0m",
      "\u001b[1m\u001b[30m|   \u001b[1m\u001b[30m        return b/a;\u001b[0m",
      "\u001b[1m\u001b[30m|   \u001b[1m\u001b[30m    }\u001b[0m",
      "\u001b[1m\u001b[30m|   \u001b[1m\u001b[30m    public double mod(double a, double b){\u001b[0m",
      "\u001b[1m\u001b[30m|   \u001b[1m\u001b[30m        return b%a;\u001b[0m",
      "\u001b[1m\u001b[30m|   \u001b[1m\u001b[30m    }\u001b[0m",
      "\u001b[1m\u001b[30m|   \u001b[1m\u001b[30m\u001b[0m",
      "\u001b[1m\u001b[30m|   \u001b[1m\u001b[30m    public boolean canIntify(double d){\u001b[0m",
      "\u001b[1m\u001b[30m|   \u001b[1m\u001b[30m        double dec = Math.abs(d - (int) d);\u001b[0m",
      "\u001b[1m\u001b[30m|   \u001b[1m\u001b[30m        if(dec != 0){\u001b[0m",
      "\u001b[1m\u001b[30m|   \u001b[1m\u001b[30m            return false;\u001b[0m",
      "\u001b[1m\u001b[30m|   \u001b[1m\u001b[30m        }\u001b[0m",
      "\u001b[1m\u001b[30m|   \u001b[1m\u001b[30m        else {\u001b[0m",
      "\u001b[1m\u001b[30m|   \u001b[1m\u001b[30m            return true;\u001b[0m",
      "\u001b[1m\u001b[30m|   \u001b[1m\u001b[30m        }\u001b[0m",
      "\u001b[1m\u001b[30m|   \u001b[1m\u001b[30m\u001b[0m",
      "\u001b[1m\u001b[30m|   \u001b[1m\u001b[30m    }\u001b[0m",
      "\u001b[1m\u001b[30m|   \u001b[1m\u001b[30m\u001b[0m",
      "\u001b[1m\u001b[30m|   \u001b[1m\u001b[30m    public int intify(double i){return (int) i;}\u001b[0m",
      "\u001b[1m\u001b[30m|   \u001b[1m\u001b[30m    \u001b[0m",
      "\u001b[1m\u001b[30m|   \u001b[1m\u001b[30m    public static void main(String[] args){\u001b[0m",
      "\u001b[1m\u001b[30m|   \u001b[1m\u001b[30m        Calculator c = new Calculator();\u001b[0m",
      "\u001b[1m\u001b[30m|   \u001b[1m\u001b[30m        \u001b[0m",
      "\u001b[1m\u001b[30m|   \u001b[1m\u001b[30m        Scanner sc = new Scanner(System.in);\u001b[0m",
      "\u001b[1m\u001b[30m|   \u001b[1m\u001b[30m        System.out.println(\"What operator?\");\u001b[0m",
      "\u001b[1m\u001b[30m|   \u001b[1m\u001b[30m        String op = sc.nextLine();\u001b[0m",
      "\u001b[1m\u001b[30m|   \u001b[1m\u001b[30m        System.out.println(op);\u001b[0m",
      "\u001b[1m\u001b[30m|   \u001b[1m\u001b[30m        System.out.println(\"enter number 1\");\u001b[0m",
      "\u001b[1m\u001b[30m|   \u001b[1m\u001b[30m        double d1 = sc.nextDouble();\u001b[0m",
      "\u001b[1m\u001b[30m|   \u001b[1m\u001b[30m        System.out.println(d1);\u001b[0m",
      "\u001b[1m\u001b[30m|   \u001b[1m\u001b[30m        System.out.println(\"enter number 2\");\u001b[0m",
      "\u001b[1m\u001b[30m|   \u001b[1m\u001b[30m        System.out.println(d2);\u001b[0m",
      "\u001b[1m\u001b[30m|   \u001b[1m\u001b[30m        double d2 = sc.nextDouble();\u001b[0m",
      "\u001b[1m\u001b[30m|   \u001b[1m\u001b[30m\u001b[0m",
      "\u001b[1m\u001b[30m|   \u001b[1m\u001b[30m        \u001b[0m",
      "\u001b[1m\u001b[30m|   \u001b[1m\u001b[30m        double answer = 0.0;\u001b[0m",
      "\u001b[1m\u001b[30m|   \u001b[1m\u001b[30m        switch (op) {\u001b[0m",
      "\u001b[1m\u001b[30m|   \u001b[1m\u001b[30m            case \"add\":\u001b[0m",
      "\u001b[1m\u001b[30m|   \u001b[1m\u001b[30m                if(c.canIntify(c.add(d1, d2))){\u001b[0m",
      "\u001b[1m\u001b[30m|   \u001b[1m\u001b[30m                    System.out.println(c.intify(c.add(d1, d2)));\u001b[0m",
      "\u001b[1m\u001b[30m|   \u001b[1m\u001b[30m                }\u001b[0m",
      "\u001b[1m\u001b[30m|   \u001b[1m\u001b[30m                else {\u001b[0m",
      "\u001b[1m\u001b[30m|   \u001b[1m\u001b[30m                    System.out.println(c.add(d1,d2));\u001b[0m",
      "\u001b[1m\u001b[30m|   \u001b[1m\u001b[30m                }\u001b[0m",
      "\u001b[1m\u001b[30m|   \u001b[1m\u001b[30m                break;\u001b[0m",
      "\u001b[1m\u001b[30m|   \u001b[1m\u001b[30m            case \"subtract\":\u001b[0m",
      "\u001b[1m\u001b[30m|   \u001b[1m\u001b[30m                if(c.canIntify(c.sub(d1, d2))){\u001b[0m",
      "\u001b[1m\u001b[30m|   \u001b[1m\u001b[30m                    System.out.println(c.intify(c.sub(d1, d2)));\u001b[0m",
      "\u001b[1m\u001b[30m|   \u001b[1m\u001b[30m                }\u001b[0m",
      "\u001b[1m\u001b[30m|   \u001b[1m\u001b[30m                else {\u001b[0m",
      "\u001b[1m\u001b[30m|   \u001b[1m\u001b[30m                    System.out.println(c.sub(d1,d2));\u001b[0m",
      "\u001b[1m\u001b[30m|   \u001b[1m\u001b[30m                }\u001b[0m",
      "\u001b[1m\u001b[30m|   \u001b[1m\u001b[30m                    break;\u001b[0m",
      "\u001b[1m\u001b[30m|   \u001b[1m\u001b[30m            case \"multiply\":\u001b[0m",
      "\u001b[1m\u001b[30m|   \u001b[1m\u001b[30m                if(c.canIntify(c.mult(d1, d2))){\u001b[0m",
      "\u001b[1m\u001b[30m|   \u001b[1m\u001b[30m                    System.out.println(c.intify(c.mult(d1, d2)));\u001b[0m",
      "\u001b[1m\u001b[30m|   \u001b[1m\u001b[30m                }\u001b[0m",
      "\u001b[1m\u001b[30m|   \u001b[1m\u001b[30m                else {\u001b[0m",
      "\u001b[1m\u001b[30m|   \u001b[1m\u001b[30m                    System.out.println(c.mult(d1,d2));\u001b[0m",
      "\u001b[1m\u001b[30m|   \u001b[1m\u001b[30m                }\u001b[0m",
      "\u001b[1m\u001b[30m|   \u001b[1m\u001b[30m                    break;\u001b[0m",
      "\u001b[1m\u001b[30m|   \u001b[1m\u001b[30m        }\u001b[0m",
      "\u001b[1m\u001b[30m|   \u001b[1m\u001b[30m}\u001b[0m",
      "\u001b[1m\u001b[30m|   \u001b[1m\u001b[30m}\u001b[0m",
      "\u001b[1m\u001b[31mUnresolved dependencies:\u001b[0m",
      "\u001b[1m\u001b[31m   - variable d2\u001b[0m"
     ]
    }
   ],
   "source": [
    "import java.util.Scanner;\n",
    "public class Calculator {\n",
    "    public double add(double a, double b){\n",
    "        return a+b;\n",
    "    }\n",
    "    public double sub(double a, double b){\n",
    "        return b-a;\n",
    "    }\n",
    "    public double mult(double a, double b){\n",
    "        return a*b;\n",
    "    }\n",
    "    public double div(double a, double b){\n",
    "        return b/a;\n",
    "    }\n",
    "    public double mod(double a, double b){\n",
    "        return b%a;\n",
    "    }\n",
    "\n",
    "    public boolean canIntify(double d){\n",
    "        double dec = Math.abs(d - (int) d);\n",
    "        if(dec != 0){\n",
    "            return false;\n",
    "        }\n",
    "        else {\n",
    "            return true;\n",
    "        }\n",
    "\n",
    "    }\n",
    "\n",
    "    public int intify(double i){return (int) i;}\n",
    "    \n",
    "    public static void main(String[] args){\n",
    "        Calculator c = new Calculator();\n",
    "        \n",
    "        Scanner sc = new Scanner(System.in);\n",
    "        System.out.println(\"What operator?\");\n",
    "        String op = sc.nextLine();\n",
    "        System.out.println(\"enter number 1\");\n",
    "        double d1 = sc.nextDouble();\n",
    "        System.out.println(\"enter number 2\");\n",
    "        double d2 = sc.nextDouble();\n",
    "\n",
    "        \n",
    "        double answer = 0.0;\n",
    "        switch (op) {\n",
    "            case \"add\":\n",
    "                if(c.canIntify(c.add(d1, d2))){\n",
    "                    System.out.println(c.intify(c.add(d1, d2)));\n",
    "                }\n",
    "                else {\n",
    "                    System.out.println(c.add(d1,d2));\n",
    "                }\n",
    "                break;\n",
    "            case \"subtract\":\n",
    "                if(c.canIntify(c.sub(d1, d2))){\n",
    "                    System.out.println(c.intify(c.sub(d1, d2)));\n",
    "                }\n",
    "                else {\n",
    "                    System.out.println(c.sub(d1,d2));\n",
    "                }\n",
    "                    break;\n",
    "            case \"multiply\":\n",
    "                if(c.canIntify(c.mult(d1, d2))){\n",
    "                    System.out.println(c.intify(c.mult(d1, d2)));\n",
    "                }\n",
    "                else {\n",
    "                    System.out.println(c.mult(d1,d2));\n",
    "                }\n",
    "                    break;\n",
    "        }\n",
    "}\n",
    "}\n",
    "\n",
    "Calculator.main(null);\n"
   ]
  },
  {
   "cell_type": "markdown",
   "metadata": {},
   "source": [
    "# Homework\n",
    "\n",
    "All of your homework is on this [form](https://forms.gle/M6FgxZwX1AnWdZmL9). (Link is https://forms.gle/M6FgxZwX1AnWdZmL9)"
   ]
  }
 ],
 "metadata": {
  "kernelspec": {
   "display_name": "Java",
   "language": "java",
   "name": "java"
  },
  "language_info": {
   "codemirror_mode": "java",
   "file_extension": ".jshell",
   "mimetype": "text/x-java-source",
   "name": "java",
   "pygments_lexer": "java",
   "version": "20.0.2+9-78"
  },
  "orig_nbformat": 4
 },
 "nbformat": 4,
 "nbformat_minor": 2
}
