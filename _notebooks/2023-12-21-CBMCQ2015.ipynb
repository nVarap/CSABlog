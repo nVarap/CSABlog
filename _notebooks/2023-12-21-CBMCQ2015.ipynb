{
 "cells": [
  {
   "cell_type": "markdown",
   "metadata": {},
   "source": [
    "---\n",
    "layout: post\n",
    "title: Collegeboard MCQ 2015\n",
    "toc: true\n",
    "comments: true\n",
    "description: Collegeboard MCQ Review\n",
    "courses: { csa: {week: 19} }\n",
    "type: hacks\n",
    "---"
   ]
  },
  {
   "cell_type": "markdown",
   "metadata": {},
   "source": [
    "# Pre-Revision Reflection\n",
    "\n",
    "I got a 38/39 on my Collegeboard MCQ! I am ecstatic that I have been able to attain such a high score. However, I am still aware that I need practice, as I struggled with many and used VSCode and a blank class to check my work often. I'd say that I may have achieved a 30 out of 39 if I had no crutches. The questions that were simple were obviously easy, but the ones I actually had to try on and think a lot took me a while, a lot of thinking, and some searching up when I eventually gave up. When I was taking the test, I noticed a drop in my test taking tolerance. I noticed that I often would get up, be confused at easy questions because of fatigue, or felt like the code on the page just passed through my head. I think getting AP books in order to build my tolerance is a must throughout my journey. I also struggled on large code blocks with selections about what worked and what doesn't work. I noticed that I also got confused by multiple loops, even though I wasn't confused that much by recursion, which is great improvement from my last test. \n",
    "\n",
    "The reason I've created a pre vs. post reflection is not to extend the amount of time that is read when this blog is read, however likely that may seem. I think it is important to see your mind set change in real time, and this prereflection on my work is important for capturing how I've thought before. Much like pushing branches to github, one must select the right code to resolve in merge conflicts to make you appear the best that you can be. \n",
    "\n",
    "\n"
   ]
  },
  {
   "cell_type": "markdown",
   "metadata": {},
   "source": [
    "# Incorrect Question\n",
    "\n",
    "I'm going to pick the specific questions that I got incorrect, this only one being question 17. \n",
    "\n"
   ]
  },
  {
   "cell_type": "code",
   "execution_count": null,
   "metadata": {},
   "outputs": [],
   "source": []
  }
 ],
 "metadata": {
  "language_info": {
   "name": "python"
  }
 },
 "nbformat": 4,
 "nbformat_minor": 2
}
