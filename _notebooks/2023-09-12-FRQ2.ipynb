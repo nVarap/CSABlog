{
 "cells": [
  {
   "cell_type": "markdown",
   "metadata": {},
   "source": [
    "---\n",
    "toc: True\n",
    "comments: True\n",
    "layout: post\n",
    "title: FRQ 2 - Classes \n",
    "description: Talking about Classes in FRQs\n",
    "type: plans\n",
    "courses: { 'csa': {'week': 4} }\n",
    "---"
   ]
  },
  {
   "cell_type": "markdown",
   "metadata": {},
   "source": []
  },
  {
   "cell_type": "code",
   "execution_count": null,
   "metadata": {},
   "outputs": [],
   "source": [
    "public class Book \n",
    "{\n",
    "    private String title;\n",
    "    private double price;\n",
    "\n",
    "    public Book(String bookTitle, double bookPrice){\n",
    "        /*implementation not shown*/\n",
    "    }\n",
    "    public String getTitle(){\n",
    "        return title;\n",
    "    }\n",
    "\n",
    "    public String getBookInfo(){\n",
    "        return title + \"-\" + price;\n",
    "    }\n",
    "// there may be instance variables, constructors, and methods that are not shown\n",
    "}"
   ]
  },
  {
   "cell_type": "code",
   "execution_count": null,
   "metadata": {},
   "outputs": [],
   "source": [
    "public class Textbook extends Book {\n",
    "    private int edition;\n",
    "    private int title;\n",
    "    private double price;\n",
    "\n",
    "    public Textbook(int ed, String bookTitle, double bookPrice){\n",
    "        super(bookTitle, bookPrice);\n",
    "        edition = ed;\n",
    "    }\n",
    "\n",
    "    @override public String getBookInfo(){\n",
    "        return this.bookTitle+\"-\"+this.bookPrice+\"-\"+this.edition;\n",
    "    } \n",
    "}"
   ]
  },
  {
   "cell_type": "markdown",
   "metadata": {},
   "source": [
    "<h1> Explaining the FRQ: </h1> \n",
    "\n",
    "<p> Classes FRQs can be one of, if not the easiest FRQ in the entire exam. This is primarily because of its brevity and simplicity of knowledge. When you approach this specific problem, you primarily have to write a large amount of code by yourself, and know some of the intricacies of writing classes. Unlike most of the FRQs, this is not very fill-in-the-blank. Thus, when approaching this frq, it is necessary for students to be aware of how methods work, and how to approach certain ideas of classes. Some important things to know from my brief exposure to this type of FRQ are:</p>\n",
    "\n",
    "<ul> `super` </ul>\n",
    "<ul> `@override` </ul>\n",
    "<ul> public vs private scope </ul>\n",
    "<ul> Setters and getters </ul>\n",
    "\n",
    "<p>By understanding these concepts, students will be successful at this rather easy FRQ.</p>"
   ]
  }
 ],
 "metadata": {
  "kernelspec": {
   "display_name": "Java",
   "language": "java",
   "name": "java"
  },
  "language_info": {
   "name": "java"
  },
  "orig_nbformat": 4
 },
 "nbformat": 4,
 "nbformat_minor": 2
}
