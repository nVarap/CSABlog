{
 "cells": [
  {
   "cell_type": "markdown",
   "metadata": {},
   "source": [
    "---\n",
    "toc: True\n",
    "comments: True\n",
    "layout: post\n",
    "title: FRQ 2 - Classes \n",
    "description: Talking about Classes in FRQs\n",
    "type: tangibles\n",
    "courses: { 'csa': {'week': 4} }\n",
    "---"
   ]
  },
  {
   "cell_type": "markdown",
   "metadata": {},
   "source": []
  },
  {
   "cell_type": "code",
   "execution_count": 31,
   "metadata": {
    "vscode": {
     "languageId": "java"
    }
   },
   "outputs": [],
   "source": [
    "public class Book \n",
    "{\n",
    "    public String title;\n",
    "    public double price;\n",
    "\n",
    "    public Book(String bookTitle, double bookPrice){\n",
    "        this.title = bookTitle;\n",
    "        this.price = bookPrice;\n",
    "    }\n",
    "    public String getTitle(){\n",
    "        return title;\n",
    "    }\n",
    "    \n",
    "    public String getBookInfo(){\n",
    "        return title + \"-\" + price;\n",
    "    }\n",
    "// there may be instance variables, constructors, and methods that are not shown\n",
    "}"
   ]
  },
  {
   "cell_type": "code",
   "execution_count": 32,
   "metadata": {
    "vscode": {
     "languageId": "java"
    }
   },
   "outputs": [],
   "source": [
    "public class Textbook extends Book {\n",
    "    private int edition;\n",
    "    private String title;\n",
    "    private double price;\n",
    "\n",
    "    public Textbook(int ed, String bookTitle, double bookPrice){\n",
    "        super(bookTitle, bookPrice);\n",
    "        this.edition = ed;\n",
    "    }\n",
    "\n",
    "    @Override \n",
    "    public String getBookInfo(){\n",
    "        return super.getBookInfo()+\"-\"+this.edition;\n",
    "    } \n",
    "\n",
    "    public void EditPrice(double newprice){\n",
    "        super.price = newprice;\n",
    "    }\n",
    "    public void EditTitle(String newTitle){\n",
    "        super.title = newTitle;\n",
    "    }\n",
    "\n",
    "    public void increaseEdition(){\n",
    "        this.edition ++;\n",
    "    }\n",
    "}"
   ]
  },
  {
   "cell_type": "code",
   "execution_count": 33,
   "metadata": {
    "vscode": {
     "languageId": "java"
    }
   },
   "outputs": [
    {
     "name": "stdout",
     "output_type": "stream",
     "text": [
      "New Textbook V1-12.99-1\n",
      "AMONGUS-12412.123413-2\n"
     ]
    }
   ],
   "source": [
    "Textbook txtbk1 = new Textbook(1, \"New Textbook V1\", 12.99);\n",
    "System.out.println(txtbk1.getBookInfo());\n",
    "txtbk1.EditPrice(12412.123413);\n",
    "txtbk1.EditTitle(\"AMONGUS\");\n",
    "txtbk1.increaseEdition();\n",
    "System.out.println(txtbk1.getBookInfo());\n"
   ]
  },
  {
   "cell_type": "markdown",
   "metadata": {},
   "source": [
    "<h1> Explaining the FRQ: </h1> \n",
    "\n",
    "<p> Classes FRQs can be one of, if not the easiest FRQ in the entire exam. This is primarily because of its brevity and simplicity of knowledge. When you approach this specific problem, you primarily have to write a large amount of code by yourself, and know some of the intricacies of writing classes. Unlike most of the FRQs, this is not very fill-in-the-blank. Thus, when approaching this frq, it is necessary for students to be aware of how methods work, and how to approach certain ideas of classes. Some important things to know from my brief exposure to this type of FRQ are:</p>\n",
    "\n",
    "<ul> `super` </ul>\n",
    "<ul> `@override` </ul>\n",
    "<ul> public vs private scope </ul>\n",
    "<ul> Setters and getters </ul>\n",
    "\n",
    "<p>By understanding these concepts, students will be successful at this rather easy FRQ.</p>\n",
    "\n",
    "<p>The Free Response Questions (FRQ) in Advanced Placement (AP) Computer Science represent a pivotal component of the assessment for this challenging course. These FRQs are meticulously designed to evaluate students' deep understanding of advanced programming concepts, algorithmic problem-solving skills, and their ability to apply computational principles to real-world scenarios. AP Computer Science Advanced FRQs typically encompass a wide range of topics, including data structures, dynamic programming, object-oriented design, and more. Students are required to demonstrate not only their coding proficiency but also their capacity to analyze complex problems, devise elegant solutions, and communicate their thought processes effectively. The AP Computer Science Advanced FRQs provide an opportunity for students to showcase their mastery of advanced computer science concepts and showcase their readiness for college-level coursework and future careers in the field of computer science.</p>"
   ]
  }
 ],
 "metadata": {
  "kernelspec": {
   "display_name": "Java",
   "language": "java",
   "name": "java"
  },
  "language_info": {
   "codemirror_mode": "java",
   "file_extension": ".jshell",
   "mimetype": "text/x-java-source",
   "name": "Java",
   "pygments_lexer": "java",
   "version": "20.0.2+9-78"
  },
  "orig_nbformat": 4
 },
 "nbformat": 4,
 "nbformat_minor": 2
}
