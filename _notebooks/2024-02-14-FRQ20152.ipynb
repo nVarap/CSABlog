{
 "cells": [
  {
   "cell_type": "markdown",
   "metadata": {},
   "source": [
    "---\n",
    "layout: post\n",
    "title: AP CSA FRQ 2 - Guessing games\n",
    "toc: true\n",
    "comments: true\n",
    "description: FRQ 2015 - Question 2\n",
    "courses: { csa: {week: 22} }\n",
    "type: tangibles\n",
    "---"
   ]
  },
  {
   "cell_type": "markdown",
   "metadata": {},
   "source": [
    "Consider a guessing game in which a player tries to guess a hidden word. The hidden word contains only capital letters and has a length known to the player. A guess contains only capital letters and has the same length as the hidden word.\n",
    "\n",
    "After a guess is made, the player is given a hint that is based on a comparison between the hidden word and the guess. Each position in the hint contains a character that corresponds to the letter in the same position in the guess. The following rules determine the characters that appear in the hint."
   ]
  },
  {
   "cell_type": "markdown",
   "metadata": {},
   "source": [
    "![](https://github.com/nVarap/CSABlog/assets/108639268/3b2b7511-b8d6-40e0-b54e-b8f673011ce8)\n",
    "\n",
    "The HiddenWord class will be used to represent the hidden word in the game. The hidden word is passed to the constructor. The class contains a method, getHint, that takes a guess and produces a hint. For example, suppose the variable puzzle is declared as follows. \n",
    "\n",
    "`HiddenWord puzzle = new HiddenWord(\"HARPS\");` \n",
    "\n",
    "The following table shows several guesses and the hints that would be produced.\n",
    "\n",
    "![](https://github.com/nVarap/CSABlog/assets/108639268/226cbe21-9b2d-4040-81fe-bf872b816e1b)\n",
    "\n",
    "Write the complete `HiddenWord` class, including any necessary instance variables, its constructor, and the method, getHint, described above.You may assume that the length of the guess is the same as the length of the hidden word.\n"
   ]
  },
  {
   "cell_type": "code",
   "execution_count": 6,
   "metadata": {
    "vscode": {
     "languageId": "java"
    }
   },
   "outputs": [
    {
     "name": "stdout",
     "output_type": "stream",
     "text": [
      "H*++*\n",
      "H****\n",
      "HARPS\n"
     ]
    }
   ],
   "source": [
    "public class HiddenWord{\n",
    "\n",
    "    private String word;\n",
    "\n",
    "    public HiddenWord(String word){\n",
    "        this.word = word;\n",
    "    } \n",
    "\n",
    "    public boolean inWord(char charAtWord){\n",
    "        for(int i = 0; i < this.word.length(); i++){\n",
    "            if(this.word.charAt(i) == charAtWord){\n",
    "                return true;\n",
    "            }\n",
    "        }\n",
    "        return false;\n",
    "    }\n",
    "\n",
    "    public boolean isChar(char charAtWord, int index){\n",
    "        if(this.word.charAt(index) == charAtWord){\n",
    "            return true;\n",
    "        }\n",
    "        return false;\n",
    "    }\n",
    "\n",
    "    public String getHint(String guess){  \n",
    "        String returnString = \"\" ;\n",
    "        for (int i = 0; i < this.word.length(); i++){\n",
    "            char currChar = guess.charAt(i);\n",
    "            if(isChar(currChar, i)){\n",
    "                returnString += currChar;\n",
    "            }\n",
    "\n",
    "            else if (inWord(currChar)){\n",
    "                returnString += '+';\n",
    "            }\n",
    "\n",
    "            else {\n",
    "                returnString += '*';\n",
    "            }\n",
    "        }\n",
    "        return returnString;\n",
    "    }\n",
    "\n",
    "    public static void main(String[] args){\n",
    "        // testing with above example\n",
    "        HiddenWord harps = new HiddenWord(\"HARPS\");\n",
    "\n",
    "        System.out.println(harps.getHint(\"HEART\"));\n",
    "        System.out.println(harps.getHint(\"HELLO\"));\n",
    "        System.out.println(harps.getHint(\"HARPS\"));\n",
    "    }\n",
    "\n",
    "}\n",
    "\n",
    "HiddenWord.main(null);"
   ]
  },
  {
   "cell_type": "markdown",
   "metadata": {},
   "source": [
    "Another way, using StringBuilder"
   ]
  },
  {
   "cell_type": "code",
   "execution_count": 10,
   "metadata": {
    "vscode": {
     "languageId": "java"
    }
   },
   "outputs": [
    {
     "name": "stdout",
     "output_type": "stream",
     "text": [
      "H*++*\n",
      "H****\n",
      "HARPS\n"
     ]
    }
   ],
   "source": [
    "public class HiddenWord2 {\n",
    "\n",
    "    private String word;\n",
    "\n",
    "    public HiddenWord2(String word) {\n",
    "        this.word = word;\n",
    "    }\n",
    "\n",
    "    public boolean inWord(char charAtWord) {\n",
    "        for (int i = 0; i < this.word.length(); i++) {\n",
    "            if (this.word.charAt(i) == charAtWord) {\n",
    "                return true;\n",
    "            }\n",
    "        }\n",
    "        return false;\n",
    "    }\n",
    "\n",
    "    public boolean isChar(char charAtWord, int index) {\n",
    "        return this.word.charAt(index) == charAtWord;\n",
    "    }\n",
    "\n",
    "    public String getHint(String guess) {\n",
    "        StringBuilder returnStringBuilder = new StringBuilder();\n",
    "        for (int i = 0; i < this.word.length(); i++) {\n",
    "            char currChar = guess.charAt(i);\n",
    "            if (isChar(currChar, i)) {\n",
    "                returnStringBuilder.append(currChar);\n",
    "            } else if (inWord(currChar)) {\n",
    "                returnStringBuilder.append('+');\n",
    "            } else {\n",
    "                returnStringBuilder.append('*');\n",
    "            }\n",
    "        }\n",
    "        return returnStringBuilder.toString();\n",
    "    }\n",
    "\n",
    "    public static void main(String[] args) {\n",
    "        // testing with above example\n",
    "        HiddenWord2 harps = new HiddenWord2(\"HARPS\");\n",
    "\n",
    "        System.out.println(harps.getHint(\"HEART\"));\n",
    "        System.out.println(harps.getHint(\"HELLO\"));\n",
    "        System.out.println(harps.getHint(\"HARPS\"));\n",
    "    }\n",
    "}\n",
    "\n",
    "HiddenWord2.main(null)\n"
   ]
  }
 ],
 "metadata": {
  "kernelspec": {
   "display_name": "Java",
   "language": "java",
   "name": "java"
  },
  "language_info": {
   "codemirror_mode": "java",
   "file_extension": ".jshell",
   "mimetype": "text/x-java-source",
   "name": "Java",
   "pygments_lexer": "java",
   "version": "20.0.2+9-78"
  }
 },
 "nbformat": 4,
 "nbformat_minor": 2
}
