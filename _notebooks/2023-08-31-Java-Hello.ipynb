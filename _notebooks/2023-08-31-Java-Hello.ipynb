{
 "cells": [
  {
   "cell_type": "markdown",
   "metadata": {},
   "source": [
    "---\n",
    "toc: true\n",
    "comments: true\n",
    "layout: post\n",
    "title: Java Review w/ AP \n",
    "description: Java Review w/ AP Comparison\n",
    "type: tangibles\n",
    "courses: { csa: {week: 1} }\n",
    "---"
   ]
  },
  {
   "cell_type": "markdown",
   "metadata": {},
   "source": [
    "# Static Examples\n",
    "The key terms in Static Class introduction:\n",
    "\n",
    "- \"class\" is a blueprint for code, it is the code definition and must be called to run\n",
    "- \"method\" or \"static method\" in this case, is the code to be run/executed, similar to a procedure\n",
    "- \"method definition\" or \"signature\" are the keywords \"public static void\" in front of the name \"main\" and the parameters \"String[] args\" after the name.\n",
    "- \"method call\" is the means in which we run the defined code\n",
    "\n",
    "`static` is an important keyword, static classes cannot interact with outside classes, and are entirely self-contained and every class you access must be static. This ensures protections from weird values and is used in self-contained objects."
   ]
  },
  {
   "cell_type": "code",
   "execution_count": 6,
   "metadata": {
    "vscode": {
     "languageId": "java"
    }
   },
   "outputs": [
    {
     "name": "stdout",
     "output_type": "stream",
     "text": [
      "Hello World!\n"
     ]
    }
   ],
   "source": [
    "import java.util.Scanner; //library for user input\n",
    "import java.lang.Math; //library for random numbers\n",
    "\n",
    "System.out.println(\"Hello World!\"); // Static example"
   ]
  },
  {
   "cell_type": "code",
   "execution_count": 7,
   "metadata": {
    "vscode": {
     "languageId": "java"
    }
   },
   "outputs": [
    {
     "name": "stdout",
     "output_type": "stream",
     "text": [
      "Enter username\n",
      "Username is: nVarap\n"
     ]
    }
   ],
   "source": [
    "// Scanner example\n",
    "Scanner myObj = new Scanner(System.in);  // Create a Scanner object\n",
    "System.out.println(\"Enter username\");\n",
    "\n",
    "String userName = myObj.nextLine();  // Read user input\n",
    "System.out.println(\"Username is: \" + userName);  // Output user input\n",
    "\n"
   ]
  },
  {
   "cell_type": "markdown",
   "metadata": {},
   "source": [
    "# Dynamic Examples\n",
    "\n",
    "This example starts to use Java in its natural manner, using an object within the main method. This example is a very basic illustration of **Object Oriented Programming (OOP)**. The main method is now used as a driver/tester, by making an instance of the class. Thus, it creates an Object using the HelloObject() constructor. Also, this Class contains a getter method called getHello() which returns the value with the \"String hello\".\n",
    "\n",
    "The key terms in HelloStatic introduction:\n",
    "\n",
    "- \"Object Oriented Programming\" focuses software design around data, or objects.\n",
    "- \"object\" contains both methods and data\n",
    "- \"instance of a class\" is the process of making an object, unique or instances of variables are created within the object\n",
    "- \"constructor\" special method in class, code that is used to initialize the data within the object\n",
    "- \"getter\" is a method that is used to extract or reference data from within the object.\n",
    "\n",
    "These create a specific object that can be instantiated, have values manipulated and gotten, and otherwise manipulated in order to create new and different objects. This can be used to abstract numerous different real world things."
   ]
  },
  {
   "cell_type": "code",
   "execution_count": 11,
   "metadata": {
    "vscode": {
     "languageId": "java"
    }
   },
   "outputs": [
    {
     "name": "stdout",
     "output_type": "stream",
     "text": [
      "Hello World!\n",
      "Hello, Emaad!\n"
     ]
    }
   ],
   "source": [
    "// Define Class with Constructor returning Object\n",
    "public class HelloObject {\n",
    "    private String hello;   // instance attribute or variable\n",
    "    public HelloObject(String greeting) {  // constructor\n",
    "        hello = greeting;\n",
    "    }\n",
    "    public String getHello() {  // getter, returns value from inside the object\n",
    "        return this.hello;  // return String from object\n",
    "    }\n",
    "    public static void main(String[] args) {    \n",
    "        HelloObject ho = new HelloObject(\"Hello World!\"); // Instance of Class (ho) is an Object via \"new HelloObject()\"\n",
    "        HelloObject hi = new HelloObject(\"Hello, Emaad!\"); // another instance with a different greeting\n",
    "        System.out.println(ho.getHello()); // Object allows reference to public methods and data\n",
    "        System.out.println(hi.getHello());\n",
    "    }\n",
    "}\n",
    "// IJava activation\n",
    "HelloObject.main(null);"
   ]
  },
  {
   "cell_type": "markdown",
   "metadata": {},
   "source": [
    "# Dynamic Example with two constructors\n",
    "\n",
    "This last example adds to the basics of the Java anatomy. The Class now contains two constructors and a setter to go with the getter. Also, observe the driver/tester now contains two objects that are initialized differently, 0 and 1 argument constructor. Look at the usage of the \"this\" prefix. The \"this\" keyword helps in clarification between instance and local variable.\n",
    "\n",
    "The key terms in HelloDynamic introduction:\n",
    "\n",
    "- \"0 argument constructor\" constructor method with no parameter ()\n",
    "- \"1 argument constructor\" construct method with a parameter (String hello)\n",
    "- \"this keyword\" allows you to clear reference something that is part of the object, data or method\n",
    "- \"local variable\" is a variable that is passed to the method in this example, see the 1 argument constructor as it has a local variable \"String hello\"\n",
    "- \"dynamic\" versus \"static\" is something that has option to change, static never changes. A class (blueprint) and objects (instance of blueprint) are generally intended to be dynamic. Constructors and Setters are used to dynamically change the content of an object.\n",
    "- \"Java OOP, Java Classes/Objects, Java Class Attributes, Java Class Methods, Java Constructors\" are explained if more complete detail in W3 Schools: https://www.w3schools.com/java/java_oop.asp\n",
    "\n",
    "This allows for general input which creates a regular static input, but also a modular constructor that ends up assisting in creating a more diverse range of input."
   ]
  },
  {
   "cell_type": "code",
   "execution_count": 12,
   "metadata": {
    "vscode": {
     "languageId": "java"
    }
   },
   "outputs": [
    {
     "name": "stdout",
     "output_type": "stream",
     "text": [
      "Hello, World!\n",
      "Hello, Nighthawk Coding Society!\n"
     ]
    }
   ],
   "source": [
    "// Define Class\n",
    "public class HelloDynamic { // name the first letter of class as capitalized, note camel case\n",
    "    // instance variable have access modifier (private is most common), data type, and name\n",
    "    private String hello;\n",
    "    // constructor signature 1, public and zero arguments, constructors do not have return type\n",
    "    public HelloDynamic() {  // 0 argument constructor\n",
    "        this.setHello(\"Hello, World!\");  // using setter with static string\n",
    "    }\n",
    "    // constructor signature, public and one argument\n",
    "    public HelloDynamic(String hello) { // 1 argument constructor\n",
    "        this.setHello(hello);   // using setter with local variable passed into constructor\n",
    "    }\n",
    "    // setter/mutator, setter have void return type and a parameter\n",
    "    public void setHello(String hello) { // setter\n",
    "        this.hello = hello;     // instance variable on the left, local variable on the right\n",
    "    }\n",
    "    // getter/accessor, getter used to return private instance variable (encapsulated), return type is String\n",
    "    public String getHello() {  // getter\n",
    "        return this.hello;\n",
    "    }\n",
    "    // public static void main(String[] args) is signature for main/drivers/tester method\n",
    "    // a driver/tester method is singular or called a class method, it is never part of an object\n",
    "    public static void main(String[] args) {  \n",
    "        HelloDynamic hd1 = new HelloDynamic(); // no argument constructor\n",
    "        HelloDynamic hd2 = new HelloDynamic(\"Hello, Nighthawk Coding Society!\"); // one argument constructor\n",
    "        System.out.println(hd1.getHello()); // accessing getter\n",
    "        System.out.println(hd2.getHello()); \n",
    "    }\n",
    "}\n",
    "// IJava activation\n",
    "HelloDynamic.main(null);"
   ]
  },
  {
   "cell_type": "markdown",
   "metadata": {},
   "source": [
    "# Hacks\n",
    "1. Explain the anatomy of a class\n",
    "2. Person Class (For general use in an account)\n",
    "3. Create a static class (no objects)"
   ]
  },
  {
   "cell_type": "markdown",
   "metadata": {},
   "source": [
    "## Person Dynamic Class\n",
    "\n",
    "This takes the class and then allows the user to input, but also creates a base class if nothing is inputted (can be used for testing)"
   ]
  },
  {
   "cell_type": "code",
   "execution_count": 16,
   "metadata": {
    "vscode": {
     "languageId": "java"
    }
   },
   "outputs": [
    {
     "name": "stdout",
     "output_type": "stream",
     "text": [
      "Emaad Mir\n",
      "Varalu N\n",
      "Joe Smith\n"
     ]
    }
   ],
   "source": [
    "public class Person {\n",
    "    String name; \n",
    "    String username;\n",
    "    int age;\n",
    "    String abode; \n",
    "    String password;\n",
    "\n",
    "    public Person(){\n",
    "        name = \"Joe Smith\";\n",
    "        username = \"placeholder\";\n",
    "        age = 21;\n",
    "        abode = \"San Jose\";\n",
    "        password = \"password12345\";\n",
    "    }\n",
    "\n",
    "    public Person(String n, String u, int a, String ab, String p){\n",
    "        name = n;\n",
    "        username = u;\n",
    "        age = a;\n",
    "        abode = ab;\n",
    "        password = p;\n",
    "    }\n",
    "\n",
    "    public String getName(){\n",
    "        return this.name;\n",
    "    }\n",
    "\n",
    "    public static void main(String [] args){\n",
    "        Person emaad = new Person(\"Emaad Mir\", \"emu\", 16, \"San Diego\", \"Tesla Model X\");\n",
    "        Person me = new Person(\"Varalu N\", \"vvn\", 16, \"San Jose\", \"ANEWPASSWORD\");\n",
    "        Person someone = new Person();\n",
    "        System.out.println(emaad.getName());\n",
    "        System.out.println(me.getName());\n",
    "        System.out.println(someone.getName());\n",
    "\n",
    "    }\n",
    "}\n",
    "Person.main(null);"
   ]
  },
  {
   "cell_type": "markdown",
   "metadata": {},
   "source": [
    "## Purposeful Static Class"
   ]
  },
  {
   "cell_type": "code",
   "execution_count": 41,
   "metadata": {
    "vscode": {
     "languageId": "java"
    }
   },
   "outputs": [
    {
     "name": "stdout",
     "output_type": "stream",
     "text": [
      "Add, Subtract, Multiply, Divide? (a, s, m, d)\n",
      "d\n",
      "First Number: \n",
      "2\n",
      "Second Number: \n",
      "1\n",
      "Your answer is 0\n"
     ]
    }
   ],
   "source": [
    "import java.util.Scanner; //library for user input\n",
    "import java.lang.Math; //library for random numbers\n",
    "\n",
    "public int add(int a, int b){return a+b;}\n",
    "public int sub(int a, int b){return b-a;}\n",
    "public int mult(int a, int b){return a*b;}\n",
    "public int div(int a, int b){return b/a;}\n",
    "\n",
    "Scanner calc = new Scanner(System.in);\n",
    "\n",
    "System.out.println(\"Add, Subtract, Multiply, Divide? (a, s, m, d)\");\n",
    "\n",
    "String choice = calc.nextLine();\n",
    "System.out.println(choice);\n",
    "\n",
    "\n",
    "System.out.println(\"First Number: \");\n",
    "int a = calc.nextInt();\n",
    "System.out.println(a);\n",
    "System.out.println(\"Second Number: \");\n",
    "int b = calc.nextInt();\n",
    "System.out.println(b);\n",
    "\n",
    "int answer = 0;\n",
    "\n",
    "if (choice.equals(\"a\")){\n",
    "    answer = add(a, b);\n",
    "\n",
    "}\n",
    "else if (choice.equals(\"s\")){\n",
    "    answer = sub(a, b);\n",
    "}\n",
    "else if (choice.equals(\"m\")){\n",
    "    answer = mult(a, b);\n",
    "}\n",
    "else if (choice.equals(\"d\")){\n",
    "    answer = div(a, b);\n",
    "}\n",
    "\n",
    "System.out.println(\"Your answer is \" + answer);\n",
    "\n"
   ]
  }
 ],
 "metadata": {
  "kernelspec": {
   "display_name": "Java",
   "language": "java",
   "name": "java"
  },
  "language_info": {
   "codemirror_mode": "java",
   "file_extension": ".jshell",
   "mimetype": "text/x-java-source",
   "name": "Java",
   "pygments_lexer": "java",
   "version": "20.0.2+9-78"
  },
  "orig_nbformat": 4
 },
 "nbformat": 4,
 "nbformat_minor": 2
}
