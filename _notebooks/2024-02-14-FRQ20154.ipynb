{
 "cells": [
  {
   "cell_type": "markdown",
   "metadata": {},
   "source": [
    "---\n",
    "layout: post\n",
    "title: AP CSA FRQ 4 - Interfaces\n",
    "toc: true\n",
    "comments: true\n",
    "description: FRQ 2015 - Question 4\n",
    "courses: { csa: {week: 22} }\n",
    "type: tangibles\n",
    "---"
   ]
  },
  {
   "cell_type": "markdown",
   "metadata": {},
   "source": [
    "This question involves the design of an interface, writing a class that implements the interface, and writing\n",
    "a method that uses the interface.\n",
    "\n",
    "(a) A number group represents a group of integers defined in some way. It could be empty, or it could contain one or more integers.\n",
    "\n",
    "Write an interface named `NumberGroup` that represents a group of integers. The interface should have\n",
    "a single `contains` method that determines if a given integer is in the group. For example, if group1 is of type NumberGroup, and it contains only the two numbers -5 and 3, then `group1.contains(-5)` would return true, and `group1.contains(2)` would return false.\n",
    "Write the complete NumberGroup interface. It must have exactly one method."
   ]
  },
  {
   "cell_type": "code",
   "execution_count": 5,
   "metadata": {
    "vscode": {
     "languageId": "java"
    }
   },
   "outputs": [],
   "source": [
    "public interface NumberGroup {\n",
    "    boolean contains(int num);\n",
    "}"
   ]
  },
  {
   "cell_type": "markdown",
   "metadata": {},
   "source": [
    "b) A range represents a number group that contains all (and only) the integers between a minimum value and\n",
    "a maximum value, inclusive.\n",
    "\n",
    "Write the `Range` class, which is a `NumberGroup`. The Range class represents the group of int values that range from a given minimum value up through a given maximum value, inclusive. For example, the declaration\n",
    "      NumberGroup range1 = new Range(-3, 2);\n",
    "represents the group of integer values -3, -2, -1, 0, 1, 2.\n",
    "Write the complete Range class. Include all necessary instance variables and methods as well as a constructor that takes two int parameters. The first parameter represents the minimum value, and the second parameter represents the maximum value of the range. You may assume that the minimum is less than or equal to the maximum."
   ]
  },
  {
   "cell_type": "code",
   "execution_count": 11,
   "metadata": {
    "vscode": {
     "languageId": "java"
    }
   },
   "outputs": [
    {
     "name": "stdout",
     "output_type": "stream",
     "text": [
      "-2 -1 0 1 2 3 \n",
      "true\n",
      "false\n"
     ]
    }
   ],
   "source": [
    "public class Range implements NumberGroup {\n",
    "\n",
    "    private int[] range;\n",
    "\n",
    "    public Range(int bound1, int bound2) {\n",
    "        this.range = new int[bound2 - bound1 + 1];\n",
    "        int index = 0;\n",
    "        for (int i = bound1; i <= bound2; i++) {\n",
    "            this.range[index] = i;\n",
    "            index++;\n",
    "        }\n",
    "    }\n",
    "\n",
    "    public boolean contains(int num) {\n",
    "        for (int i : this.range) {\n",
    "            if (i == num) {\n",
    "                return true;\n",
    "            }\n",
    "        }\n",
    "        return false;\n",
    "    }\n",
    "\n",
    "    public void printRange() {\n",
    "        for (int i : this.range) {\n",
    "            System.out.print(i + \" \");\n",
    "        }\n",
    "    }\n",
    "\n",
    "    public static void main(String[] args) {\n",
    "        Range r = new Range(-2, 3);\n",
    "\n",
    "        r.printRange();\n",
    "        System.out.println(\"\");\n",
    "        System.out.println(r.contains(-2));\n",
    "        System.out.println(r.contains(7)); \n",
    "    }\n",
    "}\n",
    "\n",
    "Range.main(null);"
   ]
  },
  {
   "cell_type": "markdown",
   "metadata": {},
   "source": [
    "(c) The `MultipleGroups` class (not shown) represents a collection of `NumberGroup` objects and is a `NumberGroup`. The `MultipleGroups` class stores the number groups in the instance variable groupList (shown below), which is initialized in the constructor.\n",
    "\n",
    "`private List<NumberGroup> groupList;`\n",
    "\n",
    "Write the `MultipleGroups` method `contains`. The method takes an integer and returns true\n",
    "if and only if the integer is contained in one or more of the number groups in `groupList`.\n",
    "For example, suppose `multiple1` has been declared as an instance of `MultipleGroups` and consists of the three ranges created by the calls `new Range(5, 8)`, `new Range(10, 12)`, and `new Range(1,6)`. The following table shows the results of several calls to contains.\n"
   ]
  },
  {
   "cell_type": "code",
   "execution_count": 13,
   "metadata": {
    "vscode": {
     "languageId": "java"
    }
   },
   "outputs": [
    {
     "name": "stdout",
     "output_type": "stream",
     "text": [
      "true\n",
      "false\n",
      "true\n"
     ]
    }
   ],
   "source": [
    "import java.util.List;\n",
    "\n",
    "public class MultipleGroups implements NumberGroup {\n",
    "\n",
    "    private List<NumberGroup> groupList;\n",
    "\n",
    "    public MultipleGroups(List<NumberGroup> groupList) {\n",
    "        this.groupList = groupList;\n",
    "    }\n",
    "\n",
    "    public boolean contains(int num) {\n",
    "        for (NumberGroup group : groupList) {\n",
    "            if (group.contains(num)) {\n",
    "                return true;\n",
    "            }\n",
    "        }\n",
    "        return false;\n",
    "    }\n",
    "\n",
    "    public static void main(String[] args) {\n",
    "        Range range1 = new Range(5, 8);\n",
    "        Range range2 = new Range(10, 12);\n",
    "        Range range3 = new Range(1, 6);\n",
    "\n",
    "        List<NumberGroup> groupList = List.of(range1, range2, range3);\n",
    "\n",
    "        MultipleGroups multiple1 = new MultipleGroups(groupList);\n",
    "\n",
    "        System.out.println(multiple1.contains(3));  \n",
    "        System.out.println(multiple1.contains(9));  \n",
    "        System.out.println(multiple1.contains(12)); \n",
    "    }\n",
    "}\n",
    "\n",
    "MultipleGroups.main(null);"
   ]
  }
 ],
 "metadata": {
  "kernelspec": {
   "display_name": "Java",
   "language": "java",
   "name": "java"
  },
  "language_info": {
   "codemirror_mode": "java",
   "file_extension": ".jshell",
   "mimetype": "text/x-java-source",
   "name": "Java",
   "pygments_lexer": "java",
   "version": "20.0.2+9-78"
  }
 },
 "nbformat": 4,
 "nbformat_minor": 2
}
