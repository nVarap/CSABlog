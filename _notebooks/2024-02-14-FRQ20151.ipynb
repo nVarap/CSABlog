{
 "cells": [
  {
   "cell_type": "markdown",
   "metadata": {},
   "source": [
    "---\n",
    "layout: post\n",
    "title: AP CSA FRQ 1 - One-D and Two-D arrays Arrays\n",
    "toc: true\n",
    "comments: true\n",
    "description: FRQ 2015 - Question 1\n",
    "courses: { csa: {week: 22} }\n",
    "type: tangibles\n",
    "---"
   ]
  },
  {
   "cell_type": "markdown",
   "metadata": {},
   "source": [
    "a) This question involves reasoning about one-dimensional and two-dimensional arrays of integers. You will write three static methods, all of which are in a single enclosing class, named DiverseArray (not shown). The first method returns the sum of the values of a one-dimensional array; the second method returns an array that represents the sums of the rows of a two-dimensional array; and the third method analyzes row sum\n",
    "\n",
    "Write a `static` method `arraySum` that calculates and returns the sum of the entries in a specified one-dimensional array. The following example shows an array `arr1` and the value returned by a call to `arraySum`"
   ]
  },
  {
   "cell_type": "code",
   "execution_count": 4,
   "metadata": {
    "vscode": {
     "languageId": "java"
    }
   },
   "outputs": [
    {
     "name": "stdout",
     "output_type": "stream",
     "text": [
      "Sum of arr1: 16"
     ]
    }
   ],
   "source": [
    "public class FRQ1{\n",
    "    public static int arraySum(int[] arr1){\n",
    "        int total = 0;\n",
    "        for(int i : arr1){\n",
    "            total += i;\n",
    "        }\n",
    "        return total;\n",
    "    }\n",
    "\n",
    "    public static void main(String[] args){\n",
    "        // testing arraySum\n",
    "        int[] arr1 = {1,3,2,7,3};\n",
    "        System.out.print(\"Sum of arr1: \");\n",
    "        System.out.print(FRQ1.arraySum(arr1));\n",
    "    }\n",
    "}\n",
    "\n",
    "FRQ1.main(null);"
   ]
  },
  {
   "cell_type": "markdown",
   "metadata": {},
   "source": [
    "b) Write a static method `rowSums` that calculates the sums of each of the rows in a given two- dimensional array and returns these sums in a one-dimensional array. The method has one parameter, a two- dimensional array `arr2D` of `int` values. The array is in row-major order: `arr2D[r][c]` is the entry at row r and column c. The method returns a one-dimensional array with one entry for each row of `arr2D` such that each entry is the sum of the corresponding row in `arr2D`. As a reminder, each row of a two-dimensional array is a one-dimensional array.\n",
    "\n",
    "For example, if mat1 is the array represented by the following table, the call rowSums(mat1) returns the array {16, 32, 28, 20}."
   ]
  },
  {
   "cell_type": "code",
   "execution_count": 18,
   "metadata": {
    "vscode": {
     "languageId": "java"
    }
   },
   "outputs": [
    {
     "name": "stdout",
     "output_type": "stream",
     "text": [
      "16 32 28 20 "
     ]
    }
   ],
   "source": [
    "public class FRQ1{\n",
    "    public static int arraySum(int[] arr1){\n",
    "        int total = 0;\n",
    "        for(int i : arr1){\n",
    "            total += i;\n",
    "        }\n",
    "        return total;\n",
    "    }\n",
    "\n",
    "    public static int[] rowSums(int[][] arr2D){\n",
    "        int[] rows = new int[arr2D.length];\n",
    "\n",
    "        for(int i = 0; i < arr2D.length; i++){\n",
    "            rows[i] = arraySum(arr2D[i]);\n",
    "        }\n",
    "\n",
    "        return rows;\n",
    "    }\n",
    "\n",
    "    public static void main(String[] args){\n",
    "        // testing rowSums\n",
    "        int[][] mat1 = {\n",
    "            {1,3,2,7,3},\n",
    "            {10,10,4,6,2},\n",
    "            {5,3,5,9,6},\n",
    "            {7,6,4,2,1}\n",
    "        };\n",
    "\n",
    "        int[]  mat1Sums = FRQ1.rowSums(mat1);\n",
    "        for(int matRows : mat1Sums){\n",
    "            System.out.print(matRows + \" \");\n",
    "        }\n",
    "    }\n",
    "}\n",
    "\n",
    "FRQ1.main(null);"
   ]
  },
  {
   "cell_type": "markdown",
   "metadata": {},
   "source": [
    "c) A two-dimensional array is *diverse* if no two of its rows have entries that sum to the same value. In the following examples, the array `mat1` is diverse because each row sum is different, but the array `mat2` is not diverse because the first and last rows have the same sum.\n",
    "\n",
    "Write a `static` method `isDiverse` that determines whether or not a given two-dimensional array is diverse. The method has one parameter: a two-dimensional array `arr2D` of `int` values. The method should return `true` if all the row sums in the given array are unique; otherwise, it should return `false`. In the arrays shown above, the call `isDiverse(mat1)` returns `true` and the call `isDiverse(mat2)` returns `false`.\n"
   ]
  },
  {
   "cell_type": "code",
   "execution_count": 33,
   "metadata": {
    "vscode": {
     "languageId": "java"
    }
   },
   "outputs": [
    {
     "name": "stdout",
     "output_type": "stream",
     "text": [
      "Mat1 Diverse? true\n",
      "Mat1 Diverse? false\n"
     ]
    }
   ],
   "source": [
    "public class FRQ1{\n",
    "    public static int arraySum(int[] arr1){\n",
    "        int total = 0;\n",
    "        for(int i : arr1){\n",
    "            total += i;\n",
    "        }\n",
    "        return total;\n",
    "    }\n",
    "\n",
    "    public static int[] remove(int[] array, int index){\n",
    "        int[] narray = new int[array.length-1];\n",
    "        for(int i = 0, k=0; i<array.length; i++){\n",
    "            if(i == index){\n",
    "                continue;\n",
    "            }\n",
    "            narray[k++] = array[i];\n",
    "        }\n",
    "\n",
    "        return narray;\n",
    "    }\n",
    "\n",
    "    public static int[] rowSums(int[][] arr2D){\n",
    "        int[] rows = new int[arr2D.length];\n",
    "\n",
    "        for(int i = 0; i < arr2D.length; i++){\n",
    "            rows[i] = arraySum(arr2D[i]);\n",
    "        }\n",
    "\n",
    "        return rows;\n",
    "    }\n",
    "\n",
    "    public static boolean isDiverse(int[][] arr2D){\n",
    "        int[] sums = rowSums(arr2D);\n",
    "\n",
    "        for(int i=0; i < sums.length; i++){\n",
    "            int[] nar = FRQ1.remove(sums, i);\n",
    "            for (int j=0; j<nar.length; j++){\n",
    "                if(sums[i] == nar[j]){\n",
    "                    return false;\n",
    "                }\n",
    "            }\n",
    "        }\n",
    "\n",
    "        return true;\n",
    "    }\n",
    "\n",
    "    public static void main(String[] args){\n",
    "        // testing rowSums\n",
    "        int[][] mat1 = {\n",
    "            {1,3,2,7,3},\n",
    "            {10,10,4,6,2},\n",
    "            {5,3,5,9,6},\n",
    "            {7,6,4,2,1}\n",
    "        };\n",
    "\n",
    "        int[][] mat2 = {\n",
    "            {1, 1, 5, 3, 4},\n",
    "            {12, 7, 6, 1, 9},\n",
    "            {8, 11, 10, 2, 5},\n",
    "            {3, 2, 3, 0 , 6}\n",
    "        };\n",
    "\n",
    "        System.out.println(\"Mat1 Diverse? \" + isDiverse(mat1));\n",
    "        System.out.println(\"Mat1 Diverse? \" + isDiverse(mat2));\n",
    "\n",
    "    }\n",
    "\n",
    "}\n",
    "\n",
    "FRQ1.main(null);"
   ]
  }
 ],
 "metadata": {
  "kernelspec": {
   "display_name": "Java",
   "language": "java",
   "name": "java"
  },
  "language_info": {
   "codemirror_mode": "java",
   "file_extension": ".jshell",
   "mimetype": "text/x-java-source",
   "name": "Java",
   "pygments_lexer": "java",
   "version": "20.0.2+9-78"
  }
 },
 "nbformat": 4,
 "nbformat_minor": 2
}
