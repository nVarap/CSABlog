{
 "cells": [
  {
   "attachments": {},
   "cell_type": "markdown",
   "metadata": {},
   "source": [
    "---\n",
    "layout: post\n",
    "title: Linux Shell and Bash\n",
    "description: A Tech Talk on Linux and the Bash shell.\n",
    "toc: true\n",
    "comments: true\n",
    "categories: [5.A, C4.1]\n",
    "courses: { csse: {week: 1}, csp: {week: 1, categories: [6.B]}, csa: {week: 1} }\n",
    "type: devops\n",
    "---"
   ]
  },
  {
   "attachments": {},
   "cell_type": "markdown",
   "metadata": {},
   "source": [
    "## Bash Tutorial\n",
    "> A brief overview of Bash, on your way to becoming a Linux expert.  <mark>When a computer boots up, a kernel (MacOS, Windows, Linux) is started</mark>.  This kernel provides a shell, or <mark>terminal</mark>, that allows user to interact with a most basic set of commands.  Typically, the casual user will not interact with the shell/terminal as a Desktop User Interface is started by the computer boot up process.  To activate a shell directly, users will run a \"terminal\" through the Desktop. <mark>VS Code provides ability to activate \"terminal\"</mark> while in the IDE."
   ]
  },
  {
   "attachments": {},
   "cell_type": "markdown",
   "metadata": {},
   "source": [
    "## Variable Prerequisites\n",
    "> Setup bash shell dependency variables for this page.  Variables are one of the first aspects of programming.  <mark>Variables have \"name\" and a \"value\"</mark>.\n",
    "\n",
    "- Hack Note: Change variables to match your student project."
   ]
  },
  {
   "cell_type": "markdown",
   "metadata": {},
   "source": [
    "### Define variable\n",
    "The following code cell <mark>defines 3 variables and assigns each a value</mark>.  There are some extra command, called a HERE document, that write these variables to a file.  This is so we can use these variables over and over below."
   ]
  },
  {
   "cell_type": "code",
   "execution_count": 14,
   "metadata": {
    "vscode": {
     "languageId": "shellscript"
    }
   },
   "outputs": [
    {
     "name": "stdout",
     "output_type": "stream",
     "text": [
      "hello world\n"
     ]
    },
    {
     "name": "stdout",
     "output_type": "stream",
     "text": [
      "Hello World\n"
     ]
    }
   ],
   "source": [
    "echo \"hello world\"\n",
    "STR=\"Hello World\"\n",
    "echo $STR "
   ]
  },
  {
   "cell_type": "code",
   "execution_count": 15,
   "metadata": {
    "vscode": {
     "languageId": "shellscript"
    }
   },
   "outputs": [
    {
     "name": "stdout",
     "output_type": "stream",
     "text": [
      "bash: fg: %%script: no such job\n"
     ]
    }
   ],
   "source": [
    "%%script bash\n",
    "\n",
    "cat <<EOF > /tmp/variables.sh\n",
    "export project_dir=$HOME/vscode  # change vscode to different name to test git clone\n",
    "export project=\\$project_dir/teacher  # change teacher to name of project from git clone\n",
    "export project_repo=\"https://github.com/nighthawkcoders/teacher.git\"  # change to project of choice\n"
   ]
  },
  {
   "cell_type": "markdown",
   "metadata": {},
   "source": [
    "### Output the value of a variable\n",
    "The following code cell <mark>outputs the value of the variables</mark>, using the echo command.  For visual understanding in the output, each echo command provide a title before the $variable "
   ]
  },
  {
   "cell_type": "code",
   "execution_count": null,
   "metadata": {
    "vscode": {
     "languageId": "shellscript"
    }
   },
   "outputs": [
    {
     "name": "stdout",
     "output_type": "stream",
     "text": [
      "bash: /tmp/variables.sh: No such file or directory\n",
      "Project dir: \n",
      "Project: \n",
      "Repo: \n"
     ]
    }
   ],
   "source": [
    "\n",
    "source /tmp/variables.sh\n",
    "\n",
    "echo \"Project dir: $project_dir\"\n",
    "echo \"Project: $project\"\n",
    "echo \"Repo: $project_repo\""
   ]
  },
  {
   "cell_type": "markdown",
   "metadata": {},
   "source": [
    "## Project Setup and Analysis with Bash Scripts\n",
    "The bash scripts that follow automate what was done in the setup procedures.  The purpose of this is to show that many of the commands we performed can be added to a script, then performed automatically."
   ]
  },
  {
   "attachments": {},
   "cell_type": "markdown",
   "metadata": {},
   "source": [
    "### Pull Code\n",
    "> Pull code from GitHub to your machine. This is a <mark>bash script</mark>, a sequence of commands, that will create a project directory and add the \"project\" from GitHub to the vscode directory.  There is conditional logic to make sure that clone only happen if it does not (!) exist.   Here are some key elements in this code...\n",
    "\n",
    "- cd command (change directory), remember this from terminal session\n",
    "- if statements (conditional statement, called selection statement by College Board), code inside only happens if condition is met"
   ]
  },
  {
   "cell_type": "code",
   "execution_count": null,
   "metadata": {
    "vscode": {
     "languageId": "shellscript"
    }
   },
   "outputs": [],
   "source": [
    "%%script bash\n",
    "\n",
    "# Extract saved variables\n",
    "source /tmp/variables.sh\n",
    "\n",
    "echo \"Using conditional statement to create a project directory and project\"\n",
    "\n",
    "cd ~    # start in home directory\n",
    "\n",
    "# Conditional block to make a project directory\n",
    "if [ ! -d $project_dir ]\n",
    "then \n",
    "    echo \"Directory $project_dir does not exists... makinng directory $project_dir\"\n",
    "    mkdir -p $project_dir\n",
    "fi\n",
    "echo \"Directory $project_dir exists.\" \n",
    "\n",
    "# Conditional block to git clone a project from project_repo\n",
    "if [ ! -d $project ]\n",
    "then\n",
    "    echo \"Directory $project does not exists... cloning $project_repo\"\n",
    "    cd $project_dir\n",
    "    git clone $project_repo\n",
    "    cd ~\n",
    "fi\n",
    "echo \"Directory $project exists.\" "
   ]
  },
  {
   "attachments": {},
   "cell_type": "markdown",
   "metadata": {},
   "source": [
    "### Look at files Github project\n",
    "> All computers contain files and directories.  The clone brought more files from cloud to your machine.  Review the bash shell script, observe the commands that show and interact with files and directories.  These were used during setup.\n",
    "\n",
    "- \"ls\" lists computer files in Unix and Unix-like operating systems\n",
    "- \"cd\" offers way to navigate and change working directory\n",
    "- \"pwd\" print working directory\n",
    "- \"echo\" used to display line of text/string that are passed as an argument"
   ]
  },
  {
   "cell_type": "code",
   "execution_count": null,
   "metadata": {
    "vscode": {
     "languageId": "shellscript"
    }
   },
   "outputs": [],
   "source": [
    "%%script bash\n",
    "\n",
    "# Extract saved variables\n",
    "source /tmp/variables.sh\n",
    "\n",
    "echo \"Navigate to project, then navigate to area wwhere files were cloned\"\n",
    "cd $project\n",
    "pwd\n",
    "\n",
    "echo \"\"\n",
    "echo \"list top level or root of files with project pulled from github\"\n",
    "ls\n"
   ]
  },
  {
   "attachments": {},
   "cell_type": "markdown",
   "metadata": {},
   "source": [
    "### Look at file list with hidden and long attributes\n",
    "> Most linux commands have options to enhance behavior.  The enhanced listing below shows permission bits, owner of file, size and date.\n",
    "\n",
    "[ls reference](https://www.rapidtables.com/code/linux/ls.html)"
   ]
  },
  {
   "cell_type": "code",
   "execution_count": null,
   "metadata": {
    "vscode": {
     "languageId": "shellscript"
    }
   },
   "outputs": [
    {
     "name": "stdout",
     "output_type": "stream",
     "text": [
      "bash: fg: %%script: no such job\n",
      "bash: /tmp/variables.sh: No such file or directory\n",
      "Navigate to project, then navigate to area wwhere files were cloned\n",
      "/Users/vn1\n",
      "\n",
      "list all files in long format\n",
      "total 824\n",
      "drwxr-x---+  135 vn1   staff    4320 Aug 22 09:07 .\n",
      "drwxr-xr-x     7 root  admin     224 Mar 19 11:32 ..\n",
      "-r--------     1 vn1   staff       7 Nov  3  2021 .CFUserTextEncoding\n",
      "-rw-r--r--@    1 vn1   staff   18436 Aug  7 20:03 .DS_Store\n",
      "drwxr-xr-x     7 vn1   staff     224 Jun  8 12:28 .IdentityService\n",
      "drwx------+   37 vn1   staff    1184 Aug 21 23:36 .Trash\n",
      "drwxr-xr-x     4 vn1   staff     128 Apr 27 00:14 .anaconda\n",
      "drwxr-xr-x     7 vn1   staff     224 Jul 25  2022 .android\n",
      "-rw-------@    1 vn1   staff   27934 Aug 22 19:09 .bash_history\n",
      "-rw-r--r--     1 vn1   staff     641 Jan  8  2023 .bash_profile\n",
      "drwx------    55 vn1   staff    1760 Aug 22 19:19 .bash_sessions\n",
      "drwxr-xr-x@    3 vn1   staff      96 Jan  5  2023 .bundle\n",
      "drwxr-xr-x     4 vn1   staff     128 Jan  5  2023 .cache\n",
      "drwxr-xr-x     3 vn1   staff      96 Jan  5  2023 .cocoapods\n",
      "drwxr-xr-x     4 vn1   staff     128 Sep  6  2022 .conda\n",
      "-rw-r--r--     1 vn1   staff      23 Aug 18  2022 .condarc\n",
      "drwxr-xr-x    10 vn1   staff     320 Aug 19  2022 .config\n",
      "drwxr-xr-x     3 vn1   staff      96 Aug 18  2022 .continuum\n",
      "-rw-r--r--@    1 vn1   staff     616 Nov 13  2021 .cshrc\n",
      "-rw-r--r--@    1 vn1   staff     463 Nov  7  2021 .cshrc.pysave\n",
      "drwx------     3 vn1   staff      96 Nov 18  2021 .cups\n",
      "drwxr-xr-x     5 vn1   staff     160 Jul 26  2022 .dart\n",
      "drwxr-xr-x     5 vn1   staff     160 Jul 27  2022 .dartServer\n",
      "drwxr-xr-x     3 vn1   staff      96 Feb  6  2023 .degit\n",
      "drwxr-xr-x    13 vn1   staff     416 Sep 16  2022 .docker\n",
      "drwxr-xr-x    19 vn1   staff     608 May 27 16:42 .dotnet\n",
      "-rw-r--r--     1 vn1   staff      78 Jul 25  2022 .flutter\n",
      "drwxr-xr-x@    3 vn1   staff      96 Jan  9  2023 .flutter-devtools\n",
      "drwxr-xr-x@    4 vn1   staff     128 Jan  5  2023 .gem\n",
      "-rw-r--r--     1 vn1   staff     174 Jun 29 12:22 .gitconfig\n",
      "drwxr-xr-x    12 vn1   staff     384 Jan  3  2023 .gradle\n",
      "drwxr-xr-x     5 vn1   staff     160 Aug  5  2022 .idlerc\n",
      "drwxr-xr-x     3 vn1   staff      96 Aug 22  2022 .ipynb_checkpoints\n",
      "drwxr-xr-x     5 vn1   staff     160 Sep 23  2022 .ipython\n",
      "drwxr-xr-x     3 vn1   staff      96 Aug 19  2022 .jupyter\n",
      "drwxr-xr-x     3 vn1   staff      96 Oct 30  2022 .keras\n",
      "-rw-r--r--@    1 vn1   staff    1468 Feb  5  2023 .labelImgSettings.pkl\n",
      "-rw-------     1 vn1   staff    1072 Aug  6 18:03 .lesshst\n",
      "drwxr-xr-x     4 vn1   staff     128 Jul  5  2022 .local\n",
      "drwxr-xr-x@    3 vn1   staff      96 Dec 13  2022 .matplotlib\n",
      "drwxr-xr-x     3 vn1   staff      96 Jan 30  2022 .mono\n",
      "-rw-------@    1 vn1   staff     135 Aug 22 19:08 .node_repl_history\n",
      "drwxr-xr-x     9 vn1   staff     288 Feb  6  2023 .npm\n",
      "drwxr-xr-x     3 vn1   staff      96 Jul 10  2022 .nuget\n",
      "drwxr-xr-x     2 vn1   staff      64 Aug 29  2022 .omnisharp\n",
      "drwxr-xr-x@    3 vn1   staff      96 Jun 12 11:54 .openjfx\n",
      "drwxr-xr-x   102 vn1   staff    3264 Jun 12 19:17 .oracle_jre_usage\n",
      "drwxr-xr-x     4 vn1   staff     128 Jun 28  2022 .plastic4\n",
      "-rw-r--r--     1 vn1   staff     195 Sep 16  2022 .profile\n",
      "drwxr-xr-x     6 vn1   staff     192 Jan  3  2023 .pub-cache\n",
      "-rw-------     1 vn1   staff     779 Aug 21 09:20 .python_history\n",
      "-rw-------     1 vn1   staff   20480 Jul  4  2022 .random.swp\n",
      "drwxr-xr-x     3 vn1   staff      96 Jan  8  2023 .rubies\n",
      "-rw-------     1 vn1   staff     969 Jan 18  2023 .sqlite_history\n",
      "drwx------     6 vn1   staff     192 Feb 12  2023 .ssh\n",
      "drwxr-xr-x     5 vn1   staff     160 Feb 13  2023 .swiftpm\n",
      "-rw-r--r--     1 vn1   staff     464 Sep 11  2022 .tcshrc\n",
      "-rw-r--r--     1 vn1   staff     311 Aug 19  2022 .tcshrc.pysave\n",
      "drwxr-xr-x     4 vn1   staff     128 Jul  3  2022 .templateengine\n",
      "drwxr-xr-x     4 vn1   staff     128 Nov 21  2021 .thumbnails\n",
      "-rw-------     1 vn1   staff   15672 Aug  5 16:01 .viminfo\n",
      "-rw-r--r--@    1 vn1   staff      80 Nov  7  2021 .vimrc\n",
      "drwx------     6 vn1   staff     192 Dec 12  2021 .vnc\n",
      "drwxr-xr-x     5 vn1   staff     160 Jun 27 22:08 .vscode\n",
      "-rw-r--r--     1 vn1   staff     347 Aug 22 18:57 .wget-hsts\n",
      "-rw-r--r--     1 vn1   staff     594 Aug 19  2022 .xonshrc\n",
      "-rw-------     1 vn1   staff   19736 Aug 22 09:07 .zsh_history\n",
      "drwx------    79 vn1   staff    2528 Aug 22 09:07 .zsh_sessions\n",
      "-rw-r--r--@    1 vn1   staff     893 Jan  8  2023 .zshrc\n",
      "-rw-r--r--     1 vn1   staff   52614 Mar 13 08:09 AP-unit2-4a.html\n",
      "drwxr-xr-x    29 vn1   staff     928 Mar  6 12:04 APCSP\n",
      "drwxr-xr-x    28 vn1   staff     896 Dec 12  2022 APCSP-Tri-2\n",
      "drwx------@    5 vn1   staff     160 Mar  8 22:03 Applications\n",
      "drwxr-xr-x     3 vn1   staff      96 Aug 17 08:48 CSA\n",
      "drwxr-xr-x    16 vn1   staff     512 Feb 12  2023 CWCsite\n",
      "drwxr-xr-x    18 vn1   staff     576 Feb 18  2023 ChezRat\n",
      "drwx------@  483 vn1   staff   15456 Aug 21 17:58 Desktop\n",
      "drwxr-xr-x     3 vn1   staff      96 Jul 25  2022 Dev\n",
      "drwx------@  138 vn1   staff    4416 Aug  7 19:52 Documents\n",
      "drwx------@ 1749 vn1   staff   55968 Aug 22 08:08 Downloads\n",
      "drwxr-xr-x    20 vn1   staff     640 Jan  9  2023 IDKwhatthisisfor\n",
      "drwxr-xr-x     5 vn1   staff     160 Jul  6  2022 Java-Training-Exercises\n",
      "drwx------@  100 vn1   staff    3200 Feb  2  2023 Library\n",
      "drwx------     7 vn1   staff     224 Nov  3  2021 Movies\n",
      "drwx------+    6 vn1   staff     192 Nov  3  2021 Music\n",
      "drwxr-xr-x     6 vn1   staff     192 Mar 30 14:41 OptixStuff\n",
      "drwx------+   13 vn1   staff     416 Jun 29 10:57 Pictures\n",
      "drwxr-xr-x@    3 vn1   staff      96 Jan 19  2023 Postman\n",
      "drwxr-xr-x     5 vn1   staff     160 Aug  4  2022 Projects\n",
      "drwxr-xr-x+    4 vn1   staff     128 Nov  3  2021 Public\n",
      "drwxr-xr-x     2 vn1   staff      64 Jun 14 19:14 REHS\n",
      "drwxr-xr-x@   15 vn1   staff     480 Jun 29 12:30 SpellSlinger\n",
      "drwxr-xr-x     2 vn1   staff      64 Apr 25 13:48 THISSHIT\n",
      "drwxr-xr-x    11 vn1   staff     352 Nov  4  2022 acedemic-organizer\n",
      "-rw-r--r--@    1 vn1   staff      38 Feb  5  2023 apitest.py\n",
      "drwxr-xr-x@   21 vn1   staff     672 Feb 13  2023 cameratest\n",
      "drwxr-xr-x    14 vn1   staff     448 Aug 18 09:47 darkhallways\n",
      "-rw-r--r--     1 vn1   staff      14 Feb 13  2023 death.txt\n",
      "drwxr-xr-x     6 vn1   staff     192 Sep 25  2022 discBots\n",
      "drwxr-xr-x    21 vn1   staff     672 Jun  1 22:34 doItAllBackend\n",
      "drwxr-xr-x    19 vn1   staff     608 Sep 24  2022 flask\n",
      "drwxr-xr-x    20 vn1   staff     640 Oct  2  2022 flask_portfolio\n",
      "drwxr-xr-x     4 vn1   staff     128 Sep 24  2022 flask_portfolio_nvarap\n",
      "drwxr-xr-x    22 vn1   staff     704 Feb 24 20:58 freshflask\n",
      "-rw-r--r--     1 vn1   staff     237 Mar 13 15:19 fuck.txt\n",
      "drwxr-xr-x    11 vn1   staff     352 Mar 20 22:48 fuckMyLife\n",
      "drwxr-xr-x     9 vn1   staff     288 Dec 11  2022 gethinsome\n",
      "drwxr-xr-x    17 vn1   staff     544 Sep  2  2022 getting-started\n",
      "-rw-r--r--@    1 vn1   staff     838 Jan 13  2023 goddamn.ipynb\n",
      "drwxr-xr-x    19 vn1   staff     608 Jun  1 22:33 groupFlaskProject\n",
      "drwxr-xr-x     7 vn1   staff     224 May  1 17:58 hardyweinburg\n",
      "drwxr-xr-x     4 vn1   staff     128 Sep 25  2022 helloworld\n",
      "drwxr-xr-x     4 vn1   staff     128 Jun 29 12:23 knightmare\n",
      "drwxr-xr-x     6 vn1   staff     192 Jan 17  2023 mortsshit\n",
      "drwxr-xr-x     4 vn1   staff     128 May 23 21:24 myblog\n",
      "drwxr-xr-x    14 vn1   staff     448 Jun  2 00:13 nVarap.github.io\n",
      "drwxr-xr-x@    3 vn1   staff      96 May 15 13:30 nltk_data\n",
      "drwxr-xr-x    50 vn1   staff    1600 Feb 10  2023 node_modules\n",
      "drwxr-xr-x     3 vn1   staff      96 Aug 19  2022 opt\n",
      "drwxr-xr-x    10 vn1   staff     320 Mar  3 18:01 otherpeoplesshit\n",
      "-rw-r--r--     1 vn1   staff   37307 May 18 19:55 package-lock.json\n",
      "-rw-r--r--     1 vn1   staff      82 Feb 10  2023 package.json\n",
      "drwxr-xr-x     8 vn1   staff     256 Feb 26 20:44 pgkstuff\n",
      "-rw-r--r--@    1 vn1   staff  116253 May 10 09:56 princeton-review-ap-biology-prep-2023-by-the-princeton-review\n",
      "drwxr-xr-x@    3 vn1   staff      96 Mar  6 13:09 seaborn-data\n",
      "drwxr-xr-x     5 vn1   staff     160 Oct 23  2022 seocnd\n",
      "drwxr-xr-x     4 vn1   staff     128 Jan  8  2023 src\n",
      "drwxrwxr-x    10 vn1   staff     320 Feb  6  2023 svelte-typescript-app\n",
      "drwxr-xr-x     8 vn1   staff     256 May 31 18:56 thirdtri\n",
      "drwxr-xr-x    14 vn1   staff     448 Dec  4  2022 try\n",
      "drwxr-xr-x     3 vn1   staff      96 May 18 22:01 urhur\n",
      "drwxr-xr-x     4 vn1   staff     128 Jan 10  2023 vscode\n",
      "drwxr-xr-x    12 vn1   staff     384 Aug 18 14:59 wekafiles\n",
      "-rw-r--r--@    1 vn1   staff    2241 Jun 20 14:11 were.py\n",
      "drwxr-xr-x     3 vn1   staff      96 Jul  3  2022 wpilib\n"
     ]
    }
   ],
   "source": [
    "%%script bash\n",
    "\n",
    "# Extract saved variables\n",
    "source /tmp/variables.sh\n",
    "\n",
    "echo \"Navigate to project, then navigate to area wwhere files were cloned\"\n",
    "cd $project\n",
    "pwd\n",
    "\n",
    "echo \"\"\n",
    "echo \"list all files in long format\"\n",
    "ls -al   # all files -a (hidden) in -l long listing"
   ]
  },
  {
   "cell_type": "code",
   "execution_count": null,
   "metadata": {
    "vscode": {
     "languageId": "shellscript"
    }
   },
   "outputs": [
    {
     "name": "stdout",
     "output_type": "stream",
     "text": [
      "bash: fg: %%script: no such job\n",
      "bash: /tmp/variables.sh: No such file or directory\n",
      "Look for posts\n",
      "bash: cd: /_posts: No such file or directory\n",
      "/Users/vn1\n",
      "total 464\n",
      "-rw-r--r--     1 vn1  staff   52614 Mar 13 08:09 AP-unit2-4a.html\n",
      "drwxr-xr-x    29 vn1  staff     928 Mar  6 12:04 APCSP\n",
      "drwxr-xr-x    28 vn1  staff     896 Dec 12  2022 APCSP-Tri-2\n",
      "drwx------@    5 vn1  staff     160 Mar  8 22:03 Applications\n",
      "drwxr-xr-x     3 vn1  staff      96 Aug 17 08:48 CSA\n",
      "drwxr-xr-x    16 vn1  staff     512 Feb 12  2023 CWCsite\n",
      "drwxr-xr-x    18 vn1  staff     576 Feb 18  2023 ChezRat\n",
      "drwx------@  483 vn1  staff   15456 Aug 21 17:58 Desktop\n",
      "drwxr-xr-x     3 vn1  staff      96 Jul 25  2022 Dev\n",
      "drwx------@  138 vn1  staff    4416 Aug  7 19:52 Documents\n",
      "drwx------@ 1749 vn1  staff   55968 Aug 22 08:08 Downloads\n",
      "drwxr-xr-x    20 vn1  staff     640 Jan  9  2023 IDKwhatthisisfor\n",
      "drwxr-xr-x     5 vn1  staff     160 Jul  6  2022 Java-Training-Exercises\n",
      "drwx------@  100 vn1  staff    3200 Feb  2  2023 Library\n",
      "drwx------     7 vn1  staff     224 Nov  3  2021 Movies\n",
      "drwx------+    6 vn1  staff     192 Nov  3  2021 Music\n",
      "drwxr-xr-x     6 vn1  staff     192 Mar 30 14:41 OptixStuff\n",
      "drwx------+   13 vn1  staff     416 Jun 29 10:57 Pictures\n",
      "drwxr-xr-x@    3 vn1  staff      96 Jan 19  2023 Postman\n",
      "drwxr-xr-x     5 vn1  staff     160 Aug  4  2022 Projects\n",
      "drwxr-xr-x+    4 vn1  staff     128 Nov  3  2021 Public\n",
      "drwxr-xr-x     2 vn1  staff      64 Jun 14 19:14 REHS\n",
      "drwxr-xr-x@   15 vn1  staff     480 Jun 29 12:30 SpellSlinger\n",
      "drwxr-xr-x     2 vn1  staff      64 Apr 25 13:48 THISSHIT\n",
      "drwxr-xr-x    11 vn1  staff     352 Nov  4  2022 acedemic-organizer\n",
      "-rw-r--r--@    1 vn1  staff      38 Feb  5  2023 apitest.py\n",
      "drwxr-xr-x@   21 vn1  staff     672 Feb 13  2023 cameratest\n",
      "drwxr-xr-x    14 vn1  staff     448 Aug 18 09:47 darkhallways\n",
      "-rw-r--r--     1 vn1  staff      14 Feb 13  2023 death.txt\n",
      "drwxr-xr-x     6 vn1  staff     192 Sep 25  2022 discBots\n",
      "drwxr-xr-x    21 vn1  staff     672 Jun  1 22:34 doItAllBackend\n",
      "drwxr-xr-x    19 vn1  staff     608 Sep 24  2022 flask\n",
      "drwxr-xr-x    20 vn1  staff     640 Oct  2  2022 flask_portfolio\n",
      "drwxr-xr-x     4 vn1  staff     128 Sep 24  2022 flask_portfolio_nvarap\n",
      "drwxr-xr-x    22 vn1  staff     704 Feb 24 20:58 freshflask\n",
      "-rw-r--r--     1 vn1  staff     237 Mar 13 15:19 fuck.txt\n",
      "drwxr-xr-x    11 vn1  staff     352 Mar 20 22:48 fuckMyLife\n",
      "drwxr-xr-x     9 vn1  staff     288 Dec 11  2022 gethinsome\n",
      "drwxr-xr-x    17 vn1  staff     544 Sep  2  2022 getting-started\n",
      "-rw-r--r--@    1 vn1  staff     838 Jan 13  2023 goddamn.ipynb\n",
      "drwxr-xr-x    19 vn1  staff     608 Jun  1 22:33 groupFlaskProject\n",
      "drwxr-xr-x     7 vn1  staff     224 May  1 17:58 hardyweinburg\n",
      "drwxr-xr-x     4 vn1  staff     128 Sep 25  2022 helloworld\n",
      "drwxr-xr-x     4 vn1  staff     128 Jun 29 12:23 knightmare\n",
      "drwxr-xr-x     6 vn1  staff     192 Jan 17  2023 mortsshit\n",
      "drwxr-xr-x     4 vn1  staff     128 May 23 21:24 myblog\n",
      "drwxr-xr-x    14 vn1  staff     448 Jun  2 00:13 nVarap.github.io\n",
      "drwxr-xr-x@    3 vn1  staff      96 May 15 13:30 nltk_data\n",
      "drwxr-xr-x    50 vn1  staff    1600 Feb 10  2023 node_modules\n",
      "drwxr-xr-x     3 vn1  staff      96 Aug 19  2022 opt\n",
      "drwxr-xr-x    10 vn1  staff     320 Mar  3 18:01 otherpeoplesshit\n",
      "-rw-r--r--     1 vn1  staff   37307 May 18 19:55 package-lock.json\n",
      "-rw-r--r--     1 vn1  staff      82 Feb 10  2023 package.json\n",
      "drwxr-xr-x     8 vn1  staff     256 Feb 26 20:44 pgkstuff\n",
      "-rw-r--r--@    1 vn1  staff  116253 May 10 09:56 princeton-review-ap-biology-prep-2023-by-the-princeton-review\n",
      "drwxr-xr-x@    3 vn1  staff      96 Mar  6 13:09 seaborn-data\n",
      "drwxr-xr-x     5 vn1  staff     160 Oct 23  2022 seocnd\n",
      "drwxr-xr-x     4 vn1  staff     128 Jan  8  2023 src\n",
      "drwxrwxr-x    10 vn1  staff     320 Feb  6  2023 svelte-typescript-app\n",
      "drwxr-xr-x     8 vn1  staff     256 May 31 18:56 thirdtri\n",
      "drwxr-xr-x    14 vn1  staff     448 Dec  4  2022 try\n",
      "drwxr-xr-x     3 vn1  staff      96 May 18 22:01 urhur\n",
      "drwxr-xr-x     4 vn1  staff     128 Jan 10  2023 vscode\n",
      "drwxr-xr-x    12 vn1  staff     384 Aug 18 14:59 wekafiles\n",
      "-rw-r--r--@    1 vn1  staff    2241 Jun 20 14:11 were.py\n",
      "drwxr-xr-x     3 vn1  staff      96 Jul  3  2022 wpilib\n"
     ]
    }
   ],
   "source": [
    "%%script bash\n",
    "\n",
    "# Extract saved variables\n",
    "source /tmp/variables.sh\n",
    "\n",
    "echo \"Look for posts\"\n",
    "export posts=$project/_posts  # _posts inside project\n",
    "cd $posts  # this should exist per fastpages\n",
    "pwd  # present working directory\n",
    "ls -l  # list posts"
   ]
  },
  {
   "cell_type": "code",
   "execution_count": null,
   "metadata": {
    "vscode": {
     "languageId": "shellscript"
    }
   },
   "outputs": [
    {
     "name": "stdout",
     "output_type": "stream",
     "text": [
      "bash: fg: %%script: no such job\n",
      "bash: /tmp/variables.sh: No such file or directory\n",
      "Look for notebooks\n",
      "bash: cd: /_notebooks: No such file or directory\n",
      "/Users/vn1\n",
      "total 464\n",
      "-rw-r--r--     1 vn1  staff   52614 Mar 13 08:09 AP-unit2-4a.html\n",
      "drwxr-xr-x    29 vn1  staff     928 Mar  6 12:04 APCSP\n",
      "drwxr-xr-x    28 vn1  staff     896 Dec 12  2022 APCSP-Tri-2\n",
      "drwx------@    5 vn1  staff     160 Mar  8 22:03 Applications\n",
      "drwxr-xr-x     3 vn1  staff      96 Aug 17 08:48 CSA\n",
      "drwxr-xr-x    16 vn1  staff     512 Feb 12  2023 CWCsite\n",
      "drwxr-xr-x    18 vn1  staff     576 Feb 18  2023 ChezRat\n",
      "drwx------@  483 vn1  staff   15456 Aug 21 17:58 Desktop\n",
      "drwxr-xr-x     3 vn1  staff      96 Jul 25  2022 Dev\n",
      "drwx------@  138 vn1  staff    4416 Aug  7 19:52 Documents\n",
      "drwx------@ 1749 vn1  staff   55968 Aug 22 08:08 Downloads\n",
      "drwxr-xr-x    20 vn1  staff     640 Jan  9  2023 IDKwhatthisisfor\n",
      "drwxr-xr-x     5 vn1  staff     160 Jul  6  2022 Java-Training-Exercises\n",
      "drwx------@  100 vn1  staff    3200 Feb  2  2023 Library\n",
      "drwx------     7 vn1  staff     224 Nov  3  2021 Movies\n",
      "drwx------+    6 vn1  staff     192 Nov  3  2021 Music\n",
      "drwxr-xr-x     6 vn1  staff     192 Mar 30 14:41 OptixStuff\n",
      "drwx------+   13 vn1  staff     416 Jun 29 10:57 Pictures\n",
      "drwxr-xr-x@    3 vn1  staff      96 Jan 19  2023 Postman\n",
      "drwxr-xr-x     5 vn1  staff     160 Aug  4  2022 Projects\n",
      "drwxr-xr-x+    4 vn1  staff     128 Nov  3  2021 Public\n",
      "drwxr-xr-x     2 vn1  staff      64 Jun 14 19:14 REHS\n",
      "drwxr-xr-x@   15 vn1  staff     480 Jun 29 12:30 SpellSlinger\n",
      "drwxr-xr-x     2 vn1  staff      64 Apr 25 13:48 THISSHIT\n",
      "drwxr-xr-x    11 vn1  staff     352 Nov  4  2022 acedemic-organizer\n",
      "-rw-r--r--@    1 vn1  staff      38 Feb  5  2023 apitest.py\n",
      "drwxr-xr-x@   21 vn1  staff     672 Feb 13  2023 cameratest\n",
      "drwxr-xr-x    14 vn1  staff     448 Aug 18 09:47 darkhallways\n",
      "-rw-r--r--     1 vn1  staff      14 Feb 13  2023 death.txt\n",
      "drwxr-xr-x     6 vn1  staff     192 Sep 25  2022 discBots\n",
      "drwxr-xr-x    21 vn1  staff     672 Jun  1 22:34 doItAllBackend\n",
      "drwxr-xr-x    19 vn1  staff     608 Sep 24  2022 flask\n",
      "drwxr-xr-x    20 vn1  staff     640 Oct  2  2022 flask_portfolio\n",
      "drwxr-xr-x     4 vn1  staff     128 Sep 24  2022 flask_portfolio_nvarap\n",
      "drwxr-xr-x    22 vn1  staff     704 Feb 24 20:58 freshflask\n",
      "-rw-r--r--     1 vn1  staff     237 Mar 13 15:19 fuck.txt\n",
      "drwxr-xr-x    11 vn1  staff     352 Mar 20 22:48 fuckMyLife\n",
      "drwxr-xr-x     9 vn1  staff     288 Dec 11  2022 gethinsome\n",
      "drwxr-xr-x    17 vn1  staff     544 Sep  2  2022 getting-started\n",
      "-rw-r--r--@    1 vn1  staff     838 Jan 13  2023 goddamn.ipynb\n",
      "drwxr-xr-x    19 vn1  staff     608 Jun  1 22:33 groupFlaskProject\n",
      "drwxr-xr-x     7 vn1  staff     224 May  1 17:58 hardyweinburg\n",
      "drwxr-xr-x     4 vn1  staff     128 Sep 25  2022 helloworld\n",
      "drwxr-xr-x     4 vn1  staff     128 Jun 29 12:23 knightmare\n",
      "drwxr-xr-x     6 vn1  staff     192 Jan 17  2023 mortsshit\n",
      "drwxr-xr-x     4 vn1  staff     128 May 23 21:24 myblog\n",
      "drwxr-xr-x    14 vn1  staff     448 Jun  2 00:13 nVarap.github.io\n",
      "drwxr-xr-x@    3 vn1  staff      96 May 15 13:30 nltk_data\n",
      "drwxr-xr-x    50 vn1  staff    1600 Feb 10  2023 node_modules\n",
      "drwxr-xr-x     3 vn1  staff      96 Aug 19  2022 opt\n",
      "drwxr-xr-x    10 vn1  staff     320 Mar  3 18:01 otherpeoplesshit\n",
      "-rw-r--r--     1 vn1  staff   37307 May 18 19:55 package-lock.json\n",
      "-rw-r--r--     1 vn1  staff      82 Feb 10  2023 package.json\n",
      "drwxr-xr-x     8 vn1  staff     256 Feb 26 20:44 pgkstuff\n",
      "-rw-r--r--@    1 vn1  staff  116253 May 10 09:56 princeton-review-ap-biology-prep-2023-by-the-princeton-review\n",
      "drwxr-xr-x@    3 vn1  staff      96 Mar  6 13:09 seaborn-data\n",
      "drwxr-xr-x     5 vn1  staff     160 Oct 23  2022 seocnd\n",
      "drwxr-xr-x     4 vn1  staff     128 Jan  8  2023 src\n",
      "drwxrwxr-x    10 vn1  staff     320 Feb  6  2023 svelte-typescript-app\n",
      "drwxr-xr-x     8 vn1  staff     256 May 31 18:56 thirdtri\n",
      "drwxr-xr-x    14 vn1  staff     448 Dec  4  2022 try\n",
      "drwxr-xr-x     3 vn1  staff      96 May 18 22:01 urhur\n",
      "drwxr-xr-x     4 vn1  staff     128 Jan 10  2023 vscode\n",
      "drwxr-xr-x    12 vn1  staff     384 Aug 18 14:59 wekafiles\n",
      "-rw-r--r--@    1 vn1  staff    2241 Jun 20 14:11 were.py\n",
      "drwxr-xr-x     3 vn1  staff      96 Jul  3  2022 wpilib\n"
     ]
    }
   ],
   "source": [
    "%%script bash\n",
    "\n",
    "# Extract saved variables\n",
    "source /tmp/variables.sh\n",
    "\n",
    "echo \"Look for notebooks\"\n",
    "export notebooks=$project/_notebooks  # _notebooks is inside project\n",
    "cd $notebooks   # this should exist per fastpages\n",
    "pwd  # present working directory\n",
    "ls -l  # list notebooks"
   ]
  },
  {
   "cell_type": "code",
   "execution_count": null,
   "metadata": {
    "vscode": {
     "languageId": "shellscript"
    }
   },
   "outputs": [
    {
     "name": "stdout",
     "output_type": "stream",
     "text": [
      "bash: fg: %%script: no such job\n",
      "bash: /tmp/variables.sh: No such file or directory\n",
      "Look for images in notebooks, print working directory, list files\n",
      "bash: cd: /images: No such file or directory\n",
      "/Users/vn1\n",
      "total 464\n",
      "-rw-r--r--     1 vn1  staff   52614 Mar 13 08:09 AP-unit2-4a.html\n",
      "drwxr-xr-x    29 vn1  staff     928 Mar  6 12:04 APCSP\n",
      "drwxr-xr-x    28 vn1  staff     896 Dec 12  2022 APCSP-Tri-2\n",
      "drwx------@    5 vn1  staff     160 Mar  8 22:03 Applications\n",
      "drwxr-xr-x     3 vn1  staff      96 Aug 17 08:48 CSA\n",
      "drwxr-xr-x    16 vn1  staff     512 Feb 12  2023 CWCsite\n",
      "drwxr-xr-x    18 vn1  staff     576 Feb 18  2023 ChezRat\n",
      "drwx------@  483 vn1  staff   15456 Aug 21 17:58 Desktop\n",
      "drwxr-xr-x     3 vn1  staff      96 Jul 25  2022 Dev\n",
      "drwx------@  138 vn1  staff    4416 Aug  7 19:52 Documents\n",
      "drwx------@ 1749 vn1  staff   55968 Aug 22 08:08 Downloads\n",
      "drwxr-xr-x    20 vn1  staff     640 Jan  9  2023 IDKwhatthisisfor\n",
      "drwxr-xr-x     5 vn1  staff     160 Jul  6  2022 Java-Training-Exercises\n",
      "drwx------@  100 vn1  staff    3200 Feb  2  2023 Library\n",
      "drwx------     7 vn1  staff     224 Nov  3  2021 Movies\n",
      "drwx------+    6 vn1  staff     192 Nov  3  2021 Music\n",
      "drwxr-xr-x     6 vn1  staff     192 Mar 30 14:41 OptixStuff\n",
      "drwx------+   13 vn1  staff     416 Jun 29 10:57 Pictures\n",
      "drwxr-xr-x@    3 vn1  staff      96 Jan 19  2023 Postman\n",
      "drwxr-xr-x     5 vn1  staff     160 Aug  4  2022 Projects\n",
      "drwxr-xr-x+    4 vn1  staff     128 Nov  3  2021 Public\n",
      "drwxr-xr-x     2 vn1  staff      64 Jun 14 19:14 REHS\n",
      "drwxr-xr-x@   15 vn1  staff     480 Jun 29 12:30 SpellSlinger\n",
      "drwxr-xr-x     2 vn1  staff      64 Apr 25 13:48 THISSHIT\n",
      "drwxr-xr-x    11 vn1  staff     352 Nov  4  2022 acedemic-organizer\n",
      "-rw-r--r--@    1 vn1  staff      38 Feb  5  2023 apitest.py\n",
      "drwxr-xr-x@   21 vn1  staff     672 Feb 13  2023 cameratest\n",
      "drwxr-xr-x    14 vn1  staff     448 Aug 18 09:47 darkhallways\n",
      "-rw-r--r--     1 vn1  staff      14 Feb 13  2023 death.txt\n",
      "drwxr-xr-x     6 vn1  staff     192 Sep 25  2022 discBots\n",
      "drwxr-xr-x    21 vn1  staff     672 Jun  1 22:34 doItAllBackend\n",
      "drwxr-xr-x    19 vn1  staff     608 Sep 24  2022 flask\n",
      "drwxr-xr-x    20 vn1  staff     640 Oct  2  2022 flask_portfolio\n",
      "drwxr-xr-x     4 vn1  staff     128 Sep 24  2022 flask_portfolio_nvarap\n",
      "drwxr-xr-x    22 vn1  staff     704 Feb 24 20:58 freshflask\n",
      "-rw-r--r--     1 vn1  staff     237 Mar 13 15:19 fuck.txt\n",
      "drwxr-xr-x    11 vn1  staff     352 Mar 20 22:48 fuckMyLife\n",
      "drwxr-xr-x     9 vn1  staff     288 Dec 11  2022 gethinsome\n",
      "drwxr-xr-x    17 vn1  staff     544 Sep  2  2022 getting-started\n",
      "-rw-r--r--@    1 vn1  staff     838 Jan 13  2023 goddamn.ipynb\n",
      "drwxr-xr-x    19 vn1  staff     608 Jun  1 22:33 groupFlaskProject\n",
      "drwxr-xr-x     7 vn1  staff     224 May  1 17:58 hardyweinburg\n",
      "drwxr-xr-x     4 vn1  staff     128 Sep 25  2022 helloworld\n",
      "drwxr-xr-x     4 vn1  staff     128 Jun 29 12:23 knightmare\n",
      "drwxr-xr-x     6 vn1  staff     192 Jan 17  2023 mortsshit\n",
      "drwxr-xr-x     4 vn1  staff     128 May 23 21:24 myblog\n",
      "drwxr-xr-x    14 vn1  staff     448 Jun  2 00:13 nVarap.github.io\n",
      "drwxr-xr-x@    3 vn1  staff      96 May 15 13:30 nltk_data\n",
      "drwxr-xr-x    50 vn1  staff    1600 Feb 10  2023 node_modules\n",
      "drwxr-xr-x     3 vn1  staff      96 Aug 19  2022 opt\n",
      "drwxr-xr-x    10 vn1  staff     320 Mar  3 18:01 otherpeoplesshit\n",
      "-rw-r--r--     1 vn1  staff   37307 May 18 19:55 package-lock.json\n",
      "-rw-r--r--     1 vn1  staff      82 Feb 10  2023 package.json\n",
      "drwxr-xr-x     8 vn1  staff     256 Feb 26 20:44 pgkstuff\n",
      "-rw-r--r--@    1 vn1  staff  116253 May 10 09:56 princeton-review-ap-biology-prep-2023-by-the-princeton-review\n",
      "drwxr-xr-x@    3 vn1  staff      96 Mar  6 13:09 seaborn-data\n",
      "drwxr-xr-x     5 vn1  staff     160 Oct 23  2022 seocnd\n",
      "drwxr-xr-x     4 vn1  staff     128 Jan  8  2023 src\n",
      "drwxrwxr-x    10 vn1  staff     320 Feb  6  2023 svelte-typescript-app\n",
      "drwxr-xr-x     8 vn1  staff     256 May 31 18:56 thirdtri\n",
      "drwxr-xr-x    14 vn1  staff     448 Dec  4  2022 try\n",
      "drwxr-xr-x     3 vn1  staff      96 May 18 22:01 urhur\n",
      "drwxr-xr-x     4 vn1  staff     128 Jan 10  2023 vscode\n",
      "drwxr-xr-x    12 vn1  staff     384 Aug 18 14:59 wekafiles\n",
      "-rw-r--r--@    1 vn1  staff    2241 Jun 20 14:11 were.py\n",
      "drwxr-xr-x     3 vn1  staff      96 Jul  3  2022 wpilib\n"
     ]
    }
   ],
   "source": [
    "%%script bash\n",
    "\n",
    "# Extract saved variables\n",
    "source /tmp/variables.sh\n",
    "\n",
    "echo \"Look for images in notebooks, print working directory, list files\"\n",
    "cd $notebooks/images  # this should exist per fastpages\n",
    "pwd\n",
    "ls -l"
   ]
  },
  {
   "attachments": {},
   "cell_type": "markdown",
   "metadata": {},
   "source": [
    "### Look inside a Markdown File\n",
    "> \"cat\" reads data from the file and gives its content as output"
   ]
  },
  {
   "cell_type": "code",
   "execution_count": null,
   "metadata": {
    "vscode": {
     "languageId": "shellscript"
    }
   },
   "outputs": [
    {
     "name": "stdout",
     "output_type": "stream",
     "text": [
      "bash: fg: %%script: no such job\n",
      "bash: /tmp/variables.sh: No such file or directory\n",
      "Navigate to project, then navigate to area wwhere files were cloned\n",
      "show the contents of README.md\n",
      "\n",
      "cat: README.md: No such file or directory\n",
      "\n",
      "end of README.md\n"
     ]
    }
   ],
   "source": [
    "%%script bash\n",
    "\n",
    "# Extract saved variables\n",
    "source /tmp/variables.sh\n",
    "\n",
    "echo \"Navigate to project, then navigate to area wwhere files were cloned\"\n",
    "\n",
    "cd $project\n",
    "echo \"show the contents of README.md\"\n",
    "echo \"\"\n",
    "\n",
    "cat README.md  # show contents of file, in this case markdown\n",
    "echo \"\"\n",
    "echo \"end of README.md\"\n"
   ]
  },
  {
   "attachments": {},
   "cell_type": "markdown",
   "metadata": {},
   "source": [
    "## Env, Git and GitHub\n",
    "> Env(ironment) is used to capture things like path to Code or Home directory.  Git and GitHub is NOT Only used to exchange code between individuals, it is often used to exchange code through servers, in our case deployment for Website.   All tools we use have a behind the scenes relationships with the system they run on (MacOS, Windows, Linus) or a relationship with servers which they are connected to (ie GitHub).  There is an \"env\" command in bash.  There are environment files and setting files (.git/config) for Git.  They both use a key/value concept.\n",
    "\n",
    "- \"env\" show setting for your shell\n",
    "- \"git clone\" sets up a director of files\n",
    "- \"cd $project\" allows user to move inside that directory of files\n",
    "- \".git\" is a hidden directory that is used by git to establish relationship between machine and the git server on GitHub.  "
   ]
  },
  {
   "cell_type": "code",
   "execution_count": null,
   "metadata": {
    "vscode": {
     "languageId": "shellscript"
    }
   },
   "outputs": [],
   "source": [
    "%%script bash\n",
    "\n",
    "# This command has no dependencies\n",
    "\n",
    "echo \"Show the shell environment variables, key on left of equal value on right\"\n",
    "echo \"\"\n",
    "\n",
    "env"
   ]
  },
  {
   "cell_type": "code",
   "execution_count": null,
   "metadata": {
    "vscode": {
     "languageId": "shellscript"
    }
   },
   "outputs": [
    {
     "name": "stdout",
     "output_type": "stream",
     "text": [
      "bash: fg: %%script: no such job\n",
      "bash: /tmp/variables.sh: No such file or directory\n",
      "\n",
      "show the secrets of .git\n",
      "bash: cd: .git: No such file or directory\n",
      "total 464\n",
      "-rw-r--r--     1 vn1  staff   52614 Mar 13 08:09 AP-unit2-4a.html\n",
      "drwxr-xr-x    29 vn1  staff     928 Mar  6 12:04 APCSP\n",
      "drwxr-xr-x    28 vn1  staff     896 Dec 12  2022 APCSP-Tri-2\n",
      "drwx------@    5 vn1  staff     160 Mar  8 22:03 Applications\n",
      "drwxr-xr-x     3 vn1  staff      96 Aug 17 08:48 CSA\n",
      "drwxr-xr-x    16 vn1  staff     512 Feb 12  2023 CWCsite\n",
      "drwxr-xr-x    18 vn1  staff     576 Feb 18  2023 ChezRat\n",
      "drwx------@  483 vn1  staff   15456 Aug 21 17:58 Desktop\n",
      "drwxr-xr-x     3 vn1  staff      96 Jul 25  2022 Dev\n",
      "drwx------@  138 vn1  staff    4416 Aug  7 19:52 Documents\n",
      "drwx------@ 1749 vn1  staff   55968 Aug 22 08:08 Downloads\n",
      "drwxr-xr-x    20 vn1  staff     640 Jan  9  2023 IDKwhatthisisfor\n",
      "drwxr-xr-x     5 vn1  staff     160 Jul  6  2022 Java-Training-Exercises\n",
      "drwx------@  100 vn1  staff    3200 Feb  2  2023 Library\n",
      "drwx------     7 vn1  staff     224 Nov  3  2021 Movies\n",
      "drwx------+    6 vn1  staff     192 Nov  3  2021 Music\n",
      "drwxr-xr-x     6 vn1  staff     192 Mar 30 14:41 OptixStuff\n",
      "drwx------+   13 vn1  staff     416 Jun 29 10:57 Pictures\n",
      "drwxr-xr-x@    3 vn1  staff      96 Jan 19  2023 Postman\n",
      "drwxr-xr-x     5 vn1  staff     160 Aug  4  2022 Projects\n",
      "drwxr-xr-x+    4 vn1  staff     128 Nov  3  2021 Public\n",
      "drwxr-xr-x     2 vn1  staff      64 Jun 14 19:14 REHS\n",
      "drwxr-xr-x@   15 vn1  staff     480 Jun 29 12:30 SpellSlinger\n",
      "drwxr-xr-x     2 vn1  staff      64 Apr 25 13:48 THISSHIT\n",
      "drwxr-xr-x    11 vn1  staff     352 Nov  4  2022 acedemic-organizer\n",
      "-rw-r--r--@    1 vn1  staff      38 Feb  5  2023 apitest.py\n",
      "drwxr-xr-x@   21 vn1  staff     672 Feb 13  2023 cameratest\n",
      "drwxr-xr-x    14 vn1  staff     448 Aug 18 09:47 darkhallways\n",
      "-rw-r--r--     1 vn1  staff      14 Feb 13  2023 death.txt\n",
      "drwxr-xr-x     6 vn1  staff     192 Sep 25  2022 discBots\n",
      "drwxr-xr-x    21 vn1  staff     672 Jun  1 22:34 doItAllBackend\n",
      "drwxr-xr-x    19 vn1  staff     608 Sep 24  2022 flask\n",
      "drwxr-xr-x    20 vn1  staff     640 Oct  2  2022 flask_portfolio\n",
      "drwxr-xr-x     4 vn1  staff     128 Sep 24  2022 flask_portfolio_nvarap\n",
      "drwxr-xr-x    22 vn1  staff     704 Feb 24 20:58 freshflask\n",
      "-rw-r--r--     1 vn1  staff     237 Mar 13 15:19 fuck.txt\n",
      "drwxr-xr-x    11 vn1  staff     352 Mar 20 22:48 fuckMyLife\n",
      "drwxr-xr-x     9 vn1  staff     288 Dec 11  2022 gethinsome\n",
      "drwxr-xr-x    17 vn1  staff     544 Sep  2  2022 getting-started\n",
      "-rw-r--r--@    1 vn1  staff     838 Jan 13  2023 goddamn.ipynb\n",
      "drwxr-xr-x    19 vn1  staff     608 Jun  1 22:33 groupFlaskProject\n",
      "drwxr-xr-x     7 vn1  staff     224 May  1 17:58 hardyweinburg\n",
      "drwxr-xr-x     4 vn1  staff     128 Sep 25  2022 helloworld\n",
      "drwxr-xr-x     4 vn1  staff     128 Jun 29 12:23 knightmare\n",
      "drwxr-xr-x     6 vn1  staff     192 Jan 17  2023 mortsshit\n",
      "drwxr-xr-x     4 vn1  staff     128 May 23 21:24 myblog\n",
      "drwxr-xr-x    14 vn1  staff     448 Jun  2 00:13 nVarap.github.io\n",
      "drwxr-xr-x@    3 vn1  staff      96 May 15 13:30 nltk_data\n",
      "drwxr-xr-x    50 vn1  staff    1600 Feb 10  2023 node_modules\n",
      "drwxr-xr-x     3 vn1  staff      96 Aug 19  2022 opt\n",
      "drwxr-xr-x    10 vn1  staff     320 Mar  3 18:01 otherpeoplesshit\n",
      "-rw-r--r--     1 vn1  staff   37307 May 18 19:55 package-lock.json\n",
      "-rw-r--r--     1 vn1  staff      82 Feb 10  2023 package.json\n",
      "drwxr-xr-x     8 vn1  staff     256 Feb 26 20:44 pgkstuff\n",
      "-rw-r--r--@    1 vn1  staff  116253 May 10 09:56 princeton-review-ap-biology-prep-2023-by-the-princeton-review\n",
      "drwxr-xr-x@    3 vn1  staff      96 Mar  6 13:09 seaborn-data\n",
      "drwxr-xr-x     5 vn1  staff     160 Oct 23  2022 seocnd\n",
      "drwxr-xr-x     4 vn1  staff     128 Jan  8  2023 src\n",
      "drwxrwxr-x    10 vn1  staff     320 Feb  6  2023 svelte-typescript-app\n",
      "drwxr-xr-x     8 vn1  staff     256 May 31 18:56 thirdtri\n",
      "drwxr-xr-x    14 vn1  staff     448 Dec  4  2022 try\n",
      "drwxr-xr-x     3 vn1  staff      96 May 18 22:01 urhur\n",
      "drwxr-xr-x     4 vn1  staff     128 Jan 10  2023 vscode\n",
      "drwxr-xr-x    12 vn1  staff     384 Aug 18 14:59 wekafiles\n",
      "-rw-r--r--@    1 vn1  staff    2241 Jun 20 14:11 were.py\n",
      "drwxr-xr-x     3 vn1  staff      96 Jul  3  2022 wpilib\n",
      "\n",
      "look at config file\n",
      "cat: config: No such file or directory\n"
     ]
    },
    {
     "ename": "",
     "evalue": "1",
     "output_type": "error",
     "traceback": []
    }
   ],
   "source": [
    "%%script bash\n",
    "\n",
    "# Extract saved variables\n",
    "source /tmp/variables.sh\n",
    " \n",
    "cd $project # CD into the project\n",
    "\n",
    "echo \"\"\n",
    "echo \"show the secrets of .git\"\n",
    "cd .git\n",
    "ls -l\n",
    "\n",
    "echo \"\"\n",
    "echo \"look at config file\"\n",
    "cat config # Shows git file"
   ]
  },
  {
   "attachments": {},
   "cell_type": "markdown",
   "metadata": {},
   "source": [
    "## Advanced Student Request - Make a file in Bash\n",
    "> This example was requested by a student (Jun Lim, CSA). The request was to make jupyer file using bash, I adapted the request to markdown.  This type of thought will have great extrapolation to coding and possibilities of using List, Arrays, or APIs to build user interfaces.  JavaScript is a language where building HTML is very common.\n",
    "\n",
    "> To get more interesting output from terminal, this will require using something like mdless (https://github.com/ttscoff/mdless).  This enables see markdown in rendered format.\n",
    "- On Desktop [Install PKG from MacPorts](https://www.macports.org/install.php)\n",
    "- In Terminal on MacOS\n",
    "    - [Install ncurses](https://ports.macports.org/port/ncurses/)\n",
    "    - ```gem install mdless```\n",
    "    \n",
    "> Output of the example is much nicer in \"jupyter\""
   ]
  },
  {
   "cell_type": "code",
   "execution_count": null,
   "metadata": {
    "vscode": {
     "languageId": "shellscript"
    }
   },
   "outputs": [],
   "source": [
    "%%script bash\n",
    "\n",
    "# This example has error in VSCode, it run best on Jupyter\n",
    "cd /tmp\n",
    "\n",
    "file=\"sample.md\"\n",
    "if [ -f \"$file\" ]; then\n",
    "    rm $file\n",
    "fi\n",
    "\n",
    "tee -a $file >/dev/null <<EOF\n",
    "# Show Generated Markdown\n",
    "This introductory paragraph and this line and the title above are generated using tee with the standard input (<<) redirection operator.\n",
    "- This bulleted element is still part of the tee body.\n",
    "EOF\n",
    "\n",
    "echo \"- This bulleted element and lines below are generated using echo with standard output (>>) redirection operator.\" >> $file\n",
    "echo \"- The list definition, as is, is using space to seperate lines.  Thus the use of commas and hyphens in output.\" >> $file\n",
    "actions=(\"ls,list-directory\" \"cd,change-directory\" \"pwd,present-working-directory\" \"if-then-fi,test-condition\" \"env,bash-environment-variables\" \"cat,view-file-contents\" \"tee,write-to-output\" \"echo,display-content-of-string\" \"echo_text_>\\$file,write-content-to-file\" \"echo_text_>>\\$file,append-content-to-file\")\n",
    "for action in ${actions[@]}; do  # for loop is very similar to other language, though [@], semi-colon, do are new\n",
    "  action=${action//-/ }  # convert dash to space\n",
    "  action=${action//,/: } # convert comma to colon\n",
    "  action=${action//_text_/ \\\"sample text\\\" } # convert _text_ to sample text, note escape character \\ to avoid \"\" having meaning\n",
    "  echo \"    - ${action//-/ }\" >> $file  # echo is redirected to file with >>\n",
    "done\n",
    "\n",
    "echo \"\"\n",
    "echo \"File listing and status\"\n",
    "ls -l $file # list file\n",
    "wc $file   # show words\n",
    "mdless $file  # this requires installation, but renders markown from terminal\n",
    "\n",
    "rm $file  # clean up termporary file"
   ]
  },
  {
   "attachments": {},
   "cell_type": "markdown",
   "metadata": {},
   "source": [
    "## Hack Preparation.\n",
    "> Review Tool Setup Procedures and think about some thing you could verify through a Shell notebook.\n",
    "- Come up with your own student view of this procedure to show your tools are installed.  It is best that you keep the few things you understand, add things later as you start to understand them.\n",
    "- Name and create blog notes on some Linux commands you will use frequently.\n",
    "- Is there anything we use to verify tools we installed? Review versions?\n",
    "- How would you update a repository?  Use the git command line? \n"
   ]
  },
  {
   "cell_type": "markdown",
   "metadata": {},
   "source": [
    "## Version Checker\n",
    "\n",
    "Using the code before, we can check to see if certain tools we've installed work, and if versions are good. This can be update for selection, but this is a simple way of doing this."
   ]
  },
  {
   "cell_type": "code",
   "execution_count": null,
   "metadata": {
    "vscode": {
     "languageId": "shellscript"
    }
   },
   "outputs": [
    {
     "name": "stdout",
     "output_type": "stream",
     "text": [
      "version of python3:\n",
      "Python 3.10.7\n",
      "version of pip3:\n",
      "pip 22.3 from /Library/Frameworks/Python.framework/Versions/3.10/lib/python3.10/site-packages/pip (python 3.10)\n",
      "version of java:\n",
      "java 20.0.2 2023-07-18\n",
      "Java(TM) SE Runtime Environment (build 20.0.2+9-78)\n",
      "Java HotSpot(TM) 64-Bit Server VM (build 20.0.2+9-78, mixed mode, sharing)\n",
      "version of javac:\n",
      "javac 20.0.2\n",
      "version of node:\n",
      "v20.2.0\n"
     ]
    }
   ],
   "source": [
    "# Check tools install\n",
    " \n",
    "array=(python3 pip3 java javac node)\n",
    "for str in ${array[@]}; do\n",
    "    echo \"version of $str:\"\n",
    "    $str --version\n",
    "done"
   ]
  },
  {
   "cell_type": "markdown",
   "metadata": {},
   "source": [
    "## Auto Git Committer\n",
    "\n",
    "The code below could be used in order to commit github repositories"
   ]
  },
  {
   "cell_type": "code",
   "execution_count": null,
   "metadata": {
    "vscode": {
     "languageId": "shellscript"
    }
   },
   "outputs": [],
   "source": [
    "# Set your GitHub username and repository name\n",
    "USERNAME=\"nVarap\"\n",
    "REPO_NAME=\"test\"\n",
    "COMMIT_MESSAGE=\"Automated commit\"\n",
    "BRANCH=main\n",
    "\n",
    "# Changes to the repository directory\n",
    "cd /path/to/your/repository\n",
    "\n",
    "# Adds all changes\n",
    "git add .\n",
    "\n",
    "# Commits with a message\n",
    "git commit -m \"$COMMIT_MESSAGE\"\n",
    "\n",
    "# Pushes to GitHub\n",
    "git push \n"
   ]
  },
  {
   "cell_type": "markdown",
   "metadata": {},
   "source": [
    "# What I learned\n",
    "\n"
   ]
  }
 ],
 "metadata": {
  "kernelspec": {
   "display_name": "Bash",
   "language": "bash",
   "name": "bash"
  },
  "language_info": {
   "codemirror_mode": "shell",
   "file_extension": ".sh",
   "mimetype": "text/x-sh",
   "name": "bash"
  },
  "vscode": {
   "interpreter": {
    "hash": "aee8b7b246df8f9039afb4144a1f6fd8d2ca17a180786b69acc140d282b71a49"
   }
  }
 },
 "nbformat": 4,
 "nbformat_minor": 2
}
