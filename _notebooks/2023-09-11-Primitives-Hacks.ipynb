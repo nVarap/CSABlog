{
 "cells": [
  {
   "cell_type": "markdown",
   "metadata": {},
   "source": [
    "---\n",
    "# this is YAML front matter\n",
    "layout: post\n",
    "title: Primitive Data Types Hacks\n",
    "description: Primitive Data Type Hacks\n",
    "courses: { csa: {week: 4} }\n",
    "type: hacks\n",
    "---"
   ]
  },
  {
   "cell_type": "markdown",
   "metadata": {},
   "source": [
    "# Demonstration of: \n",
    "- Integers\n",
    "- Boolean\n",
    "- Double"
   ]
  },
  {
   "cell_type": "code",
   "execution_count": 1,
   "metadata": {},
   "outputs": [
    {
     "name": "stdout",
     "output_type": "stream",
     "text": [
      "9\n",
      "Guess a number\n",
      "Your guess is lower\n",
      "Guess a number\n",
      "Your guess is lower\n",
      "Guess a number\n",
      "You got it! The number was 9\n",
      "Calculating mean of all data...\n",
      "Mean is 3.799999952316284\n"
     ]
    }
   ],
   "source": [
    "import java.util.Random;\n",
    "import java.util.Scanner;\n",
    "\n",
    "int guess; // initialize user guess\n",
    "\n",
    "Random rand = new Random(); // create new random object\n",
    "Scanner scan = new Scanner(System.in);\n",
    "\n",
    "int random_integer = rand.nextInt(20); // create random number\n",
    "int[] guesses = {0,0,0,0,0}; // create guesses (preset to 5 because that is how many guesses there are)\n",
    "\n",
    "System.out.println(random_integer);\n",
    "\n",
    "for(int i = 0; i < guesses.length; i++){\n",
    "    System.out.println(\"Guess a number\");\n",
    "    guess = scan.nextInt();\n",
    "    if (guess > random_integer){\n",
    "        System.out.println(\"Your guess is higher!\");\n",
    "    }  \n",
    "    else if (guess < random_integer){\n",
    "        System.out.println(\"Your guess is lower\");\n",
    "    } \n",
    "    else {\n",
    "        System.out.println(\"You got it! The number was \" + random_integer);\n",
    "        guesses[i] = guess;\n",
    "        break;\n",
    "    }\n",
    "    guesses[i] = guess;\n",
    "}\n",
    "\n",
    "System.out.println(\"Calculating mean of all data...\");\n",
    "\n",
    "int mean = 0;\n",
    "for (int i : guesses){\n",
    "    mean += i;\n",
    "}\n",
    "\n",
    "double do_mean = mean/5f;\n",
    "System.out.println(\"Mean is \" + do_mean);\n",
    "\n",
    "\n",
    "\n",
    "\n"
   ]
  },
  {
   "cell_type": "markdown",
   "metadata": {},
   "source": [
    "# Type Casting Examples\n",
    "- Wide casting: You take a data type that has a lower bit storage amount and cast it into a higher bit storage amount\n",
    "- Narrow casting: The opposite of wide casting; take a larger data type and cast it into a smaller amount.\n",
    "\n",
    "Wide casting *can* be done automatically, while narrow casting **must** be manual."
   ]
  },
  {
   "cell_type": "markdown",
   "metadata": {},
   "source": [
    "### Wide Casting"
   ]
  },
  {
   "cell_type": "code",
   "execution_count": 39,
   "metadata": {},
   "outputs": [
    {
     "name": "stdout",
     "output_type": "stream",
     "text": [
      "1241\n",
      "1241.0\n"
     ]
    }
   ],
   "source": [
    "// Wide casting\n",
    "\n",
    "int my_int = 1241;\n",
    "\n",
    "System.out.println(my_int);\n",
    "\n",
    "double my_doub = my_int; // widening my_int from an integer to a double (32 --> 64 bit)\n",
    "\n",
    "System.out.println(my_doub); // Prints with a floating point numbera"
   ]
  },
  {
   "cell_type": "markdown",
   "metadata": {},
   "source": [
    "### Narrow Casting"
   ]
  },
  {
   "cell_type": "code",
   "execution_count": 40,
   "metadata": {},
   "outputs": [
    {
     "name": "stdout",
     "output_type": "stream",
     "text": [
      "12.2421\n",
      "12\n"
     ]
    },
    {
     "name": "stdout",
     "output_type": "stream",
     "text": [
      "12.0\n"
     ]
    }
   ],
   "source": [
    "double my_doub = 12.2421; // initialize a double (64 bit number)\n",
    "\n",
    "System.out.println(my_doub); // define double with float\n",
    "\n",
    "System.out.println((int) my_doub); // Prints with a truncated decimal (32 bit integer number)\n",
    "\n",
    "// Manually Casting Wider:\n",
    "int new_int = 12;\n",
    "System.out.println((double) new_int); // Manually cast wider using double"
   ]
  }
 ],
 "metadata": {
  "kernelspec": {
   "display_name": "Java",
   "language": "java",
   "name": "java"
  },
  "language_info": {
   "codemirror_mode": "java",
   "file_extension": ".jshell",
   "mimetype": "text/x-java-source",
   "name": "java",
   "pygments_lexer": "java",
   "version": "20.0.2+9-78"
  },
  "orig_nbformat": 4
 },
 "nbformat": 4,
 "nbformat_minor": 2
}
